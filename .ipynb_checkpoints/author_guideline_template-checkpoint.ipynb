{
 "cells": [
  {
   "cell_type": "markdown",
   "metadata": {
    "citation-manager": {
     "citations": {
      "": []
     }
    },
    "tags": [
     "title"
    ]
   },
   "source": [
    "# How to handle web archive versions?"
   ]
  },
  {
   "cell_type": "markdown",
   "metadata": {
    "tags": [
     "contributor"
    ]
   },
   "source": [
    " ### Ano Nymmous [![orcid](https://orcid.org/sites/default/files/images/orcid_16x16.png)](https://orcid.org/ORCID_ID) \n",
    "Institution"
   ]
  },
  {
   "cell_type": "markdown",
   "metadata": {
    "tags": [
     "contributor"
    ]
   },
   "source": [
    "### Ano Nymous2 [![orcid](https://orcid.org/sites/default/files/images/orcid_16x16.png)](https://orcid.org/ORCID_ID_IF_EXIST) \n",
    "Institution"
   ]
  },
  {
   "cell_type": "markdown",
   "metadata": {
    "tags": [
     "contributor"
    ]
   },
   "source": [
    "### Ano Nymous3 [![orcid](https://orcid.org/sites/default/files/images/orcid_16x16.png)](https://orcid.org/ORCID_ID_IF_EXIST) \n",
    "Institution"
   ]
  },
  {
   "cell_type": "markdown",
   "metadata": {
    "tags": [
     "contributor"
    ]
   },
   "source": [
    "### Ano Nymous4 [![orcid](https://orcid.org/sites/default/files/images/orcid_16x16.png)](https://orcid.org/ORCID_ID_IF_EXIST) \n",
    "Institution"
   ]
  },
  {
   "cell_type": "markdown",
   "metadata": {
    "tags": [
     "copyright"
    ]
   },
   "source": [
    "[![cc-by](https://licensebuttons.net/l/by/4.0/88x31.png)](https://creativecommons.org/licenses/by/4.0/) \n",
    "©<AUTHOR or ORGANIZATION / FUNDER>. Published by De Gruyter in cooperation with the University of Luxembourg Centre for Contemporary and Digital History. This is an Open Access article distributed under the terms of the [Creative Commons Attribution License CC-BY](https://creativecommons.org/licenses/by/4.0/)\n"
   ]
  },
  {
   "cell_type": "code",
   "execution_count": 1,
   "metadata": {
    "tags": [
     "cover"
    ]
   },
   "outputs": [
    {
     "data": {
      "image/png": "[encoded data removed]",
      "text/plain": [
       "<IPython.core.display.Image object>"
      ]
     },
     "metadata": {},
     "output_type": "display_data"
    }
   ],
   "source": [
    "from IPython.display import Image, display\n",
    "\n",
    "display(Image(\"./media/placeholder.png\"))"
   ]
  },
  {
   "cell_type": "markdown",
   "metadata": {
    "tags": [
     "disclaimer"
    ]
   },
   "source": [
    "This article was written within the *AWAC2 Analysing Web Archives of the COVID Crisis through the IIPC Novel Coronavirus dataset* research project that benefited from the [*Archives Unleashed* cohorts program](https://archivesunleashed.org/cohorts2021-2022/). The cohort's team comprised: Valérie Schafer (C<sup><small>2</small></sup>DH, University of Luxembourg), Karin De Wild (University of Leiden), Frédéric Clavert (C<sup><small>2</small></sup>DH, University of Luxembourg), Niels Brügger (Aarhus University), Susan Aasman (University of Groningen), Sophie Gebeil (University of Aix-Marseille), Joshgun Sirajzade (C<sup><small>2</small></sup>DH, University of Luxembourg).\n",
    "\n",
    "Part of the code of this notebook have been written with the help of ChatGPT plus and GitHub Copilot."
   ]
  },
  {
   "cell_type": "markdown",
   "metadata": {
    "tags": [
     "keywords"
    ]
   },
   "source": [
    "web archives, covid, versions"
   ]
  },
  {
   "cell_type": "markdown",
   "metadata": {
    "tags": [
     "abstract"
    ]
   },
   "source": [
    "This paper debates different ways of handling versions in a web archive collection. First the problem is presented, followed by a presentation of different ways of handling this problem in the existing literature, including what the possible consequences are. Based on this presentation the different approaches are tested and discussed against the IIPC COVID-19 web archival collection."
   ]
  },
  {
   "cell_type": "markdown",
   "metadata": {},
   "source": [
    "## The challenge with versions in web archive collections"
   ]
  },
  {
   "cell_type": "markdown",
   "metadata": {},
   "source": [
    "For various reasons a collection of archived web material may contain any given web page several times, and often from different points in time. If a researcher wants to study the development of a web page over time having the web page from different points in time is a great advantage, but in case the researcher wants to investigate the entire collection (or any sub-collection), for instance statistical studies of number or size of file types, or studies of the hyperlink network between websites, having more copies of one web page, but not of all becomes a problem. For instance, when calculating number of image files the overall result will be skewed if a web page that is heavy with images has been archived 100 times, whereas others have not, or when performing a hyperlink network analysis, a web page with 100 outgoing hyperlinks that is there several times may affect the various forms of degree of that website. Therefore, in studies that investigate an entire collection the researcher would like to have only one copy of each entity, and the problem therefore arises: which one to choose? "
   ]
  },
  {
   "cell_type": "markdown",
   "metadata": {},
   "source": [
    "Before looking more closely on the possible reasons why more instances of a web page may be found in a web collection, let us introduce a distinction between two ways of being ‘the same’. Either two web pages are identical in any respect, or they share the same URL, but they have been archived at different points in time, and therefore they may to various degrees be identical, but not exactly identical. In the following the first is called a copy, whereas the latter is called a version (<cite data-cite=\"8918850/A5TDSN5Q\"></cite>, xx-xx). Thus, a copy is something that is 100% identical, whereas a version is identical to some degree. In addition, versions may come with varying degrees of being non-identical, from a single comma having been changed, to an entirely new web page, but with the same URL; the degree of ‘versioning’ may be relevant to include in the following, depending on what one wants to study."
   ]
  },
  {
   "cell_type": "markdown",
   "metadata": {},
   "source": [
    "There are two main reasons why a web collection may contain versions."
   ]
  },
  {
   "cell_type": "markdown",
   "metadata": {},
   "source": [
    "First, a curatorial reason. The curator(s) who made the collection may have set web crawling scopes differently for different websites: some may have been considered time sensitive, e.g. rapidly updating websites, whereas others have not. The result will be a heterogene collection regarding how many times any given web entity has been collected, and thus a collection with versions."
   ]
  },
  {
   "cell_type": "markdown",
   "metadata": {},
   "source": [
    "Second, a web crawler and hyperlink based reason. A web crawler archives by following hyperlinks, and if a website, website1, is archived at the time t1, then another website, website2, that is archived at the time t2 links to website1, and then website1 is archived once again, but now at t2 (cf. Brügger et al, 2021, 5). This is just a small example, but since hyperlinks are an integrated part of the web the problem may occur any time there is a hyperlink that points to something that has already been archived. A study of the Danish web as archived by the national Danish web archive Netarkivet has shown that in an archiving of the entire Danish web domain approximately 50 percent of the files had been archived more than once (Brügger et al., 2020, 5)."
   ]
  },
  {
   "cell_type": "markdown",
   "metadata": {},
   "source": [
    "No matter the reason for the existence of versions in a web collection, what is challenging is the possible existence of more versions, and that they are from different points in time. Thus, versions emerge at the nexus of variation and temporality. The difference between the two reasons above is that, in principle (but often not in practice) in the first case the existence of versions is not random and unsystematic since it is based on curatorial choices, whereas in the latter case versions are random and unsystematic, because they are based on the coincidental existence of hyperlinks on the web pages that the web crawler encounters at different points in time."
   ]
  },
  {
   "cell_type": "markdown",
   "metadata": {},
   "source": [
    "The researchers for whom versions may constitute a problem in their research project could consider proceeding in the following two steps:\n",
    "\n",
    "1. Does the collection contain copies?\n",
    "2. Does the collection contain versions?\n",
    "\n",
    "The first question is easy to answer if one has access to the ‘fingerprint’ of the web page, namely the unique checksum of a file, for instance as represented in a SHA value. The SHA value makes it easy to identify copies, and to remove them, if need be. As for versions the web address (URL/URI) can be used to inform the researcher if a given web page is there more than once, and if the SHA values are not identical they are versions."
   ]
  },
  {
   "cell_type": "markdown",
   "metadata": {},
   "source": [
    "However, regarding copies as well as versions the main question still remains: which one to choose?"
   ]
  },
  {
   "cell_type": "markdown",
   "metadata": {},
   "source": [
    "## Possible solutions"
   ]
  },
  {
   "cell_type": "markdown",
   "metadata": {},
   "source": [
    "In a research project where a limited number of web pages is included it may be possible to check and select copies and versions manually. But for projects where it is not possible to perform a manual check because of the scale of the project researchers have to develop computational methods to help manage the challenge of copies and versions."
   ]
  },
  {
   "cell_type": "markdown",
   "metadata": {},
   "source": [
    "In the existing literature different approaches have been used to deal with copies and versions. Some have set a specific point in time as the yardstick against which copies or versions should be evaluated to support the choice of only one of each, while others have focused on providing the most complete version, including a definition of what is understood by ‘complete’. Thus, the overall rule that is at stake when choosing is one of balancing temporal consistency against completeness, and it can be formulated as follows:"
   ]
  },
  {
   "cell_type": "markdown",
   "metadata": {},
   "source": [
    "> As a consequence of this, the network scholar has to choose between two different approaches. Either she or he should use web material which has been archived within a very short interval, with the advantage of minimizing the temporal inconsistency, but with the possible disadvantage that the number of URLs in the network is diminished, simply because less material has been archived within this short interval. Or she or he should choose material archived over a larger time interval, thus accessing more URLs for the network, but at the expense of accepting a higher degree of temporal inconsistency. (Brügger, 2013, xx)"
   ]
  },
  {
   "cell_type": "markdown",
   "metadata": {},
   "source": [
    "### Point in time as yardstick"
   ]
  },
  {
   "cell_type": "markdown",
   "metadata": {},
   "source": [
    "**Description:** a given point in time is set (mid of year, first day of month, a specific date, etc.) and the copy/version closest to this point in time is selected.\n",
    "\n",
    "**Conditions:** needs robust and reliable information about archiving time.\n",
    "\n",
    "**Used by:** Has been used in one of the first studies of a hyperlink network based on the archived web (Weltevrede, Helmond, 2012), and later in Helmond, 2017, and in Fage-Butler et al., 2021.\n",
    "\n",
    "**Possible consequences for the researcher:**\n",
    "\n",
    "*Advantages:*\n",
    "\n",
    "- relatively high degree of temporal consistency in the material\n",
    "- can use the web collection as is made available, that is without available metadata\n",
    "\n",
    "*Disadvantages:*\n",
    "\n",
    "selection does not include possible completeness of available versions, such as size, that is: a more complete website may be discarded because it is further away in time from the yardstick, compared to a less complete version."
   ]
  },
  {
   "cell_type": "markdown",
   "metadata": {},
   "source": [
    "### The most complete version as the wanted version"
   ]
  },
  {
   "cell_type": "markdown",
   "metadata": {},
   "source": [
    "**Description:** this approach wants to select the most complete version, irrespective of when it was archived; the most complete version can be defined in different ways, e.g.:\n",
    "\n",
    "1. the one that the web archive intended to archive, and therefore not the one(s) that were accidentally archived because a hyperlink pointed to them (as done in Brügger et al, 2020),\n",
    "2. the biggest one, calculated in either MB or number of files, as for the latter this is only useful when focusing on websites;\n",
    "3. the biggest one, calculated as either number of words/images or length of page.\n",
    "\n",
    "In relation to (2) completeness calculated as number of words or images is closely related to the research question: if one wants to make sentiment analysis, topic modelling, or similar having as many words as possible may be relevant, or if one wants to perform image analyses having as many images as possible is relevant.\n",
    "\n",
    "**Conditions:**\n",
    "\n",
    "- regarding (1) this needs access to specific crawl information, namely job-id, that is usually held by web archives themselves; job-id is used to identify in which harvest job any given web address was included in the seed-list, and the rationale is that if the web address is included in the seed-list it will be archived in the most complete version (usually this is the scope of including it in a seed-list), whereas in cases where the same web address was archived because a hyperlink pointed to it the archiving was less complete (the scope was not to archive the website in question). The first are referred to as main-harvests, the latter as by-harvests (Brügger et al., 2020, 5),\n",
    "\n",
    "- regarding (2) only access to the archived files is needed to calculate either the size in MB (of individual files if focusing on URL, or of groups of files if focusing on websites), or the number of files,\n",
    "regarding (3) only access to the html content is needed to calculate words or images, or information about page length is needed.\n",
    "\n",
    "**Used by:** (1) was used to create the corpora that are the basis for several studies of the Danish web as archived by Netarkivet (see Brügger et al., 2020).\n",
    "\n",
    "**Possible consequences for the researcher:**\n",
    "\n",
    "*Advantages:*\n",
    "\n",
    "gives a very high coverage in terms of completeness\n",
    "\n",
    "*Disadvantages:*\n",
    "\n",
    "regarding (1) cannot use the web collection as it is usually made available, metadata such as job-ids are needed\n",
    "regarding (3) one must have access to the html content and/or information about page length\n",
    "temporal inconsistency may increase"
   ]
  },
  {
   "cell_type": "markdown",
   "metadata": {},
   "source": [
    "### Other possibilities"
   ]
  },
  {
   "cell_type": "markdown",
   "metadata": {},
   "source": [
    "#### Random selection"
   ]
  },
  {
   "cell_type": "markdown",
   "metadata": {},
   "source": [
    "One could select randomly among all versions.\n",
    "\n",
    "*Advantages:*\n",
    "???\n",
    "\n",
    "*Disadvantages:*\n",
    "\n",
    "no systematic approach to how temporal inconsistency is treated"
   ]
  },
  {
   "cell_type": "markdown",
   "metadata": {},
   "source": [
    "#### Combinations"
   ]
  },
  {
   "cell_type": "markdown",
   "metadata": {},
   "source": [
    "Temporal yardstick + information about size; may increase temporal inconsistency, but may provide more complete material in terms of size (different measurements thereof); needs access to information about timestamps and size."
   ]
  },
  {
   "cell_type": "markdown",
   "metadata": {},
   "source": [
    "## Testing the possible solutions on the IIPC COVID-19 web archival collection"
   ]
  },
  {
   "cell_type": "markdown",
   "metadata": {},
   "source": [
    "### The IIPC COVID-19 collection"
   ]
  },
  {
   "cell_type": "markdown",
   "metadata": {},
   "source": [
    "Brief description of the collection as such and of our version of it, including the different available datasets. What the data structure looks like, that is which types of data do we have. And that it is a very heterogene collection in terms of what and when was archived."
   ]
  },
  {
   "cell_type": "markdown",
   "metadata": {},
   "source": [
    "According to the dataset's webpage on Internet Archive, the IIPC \"Novel Coronavirus (COVID-19)\" is:\n",
    "\n",
    "> A collection created by the Content Development Group of the International Internet Preservation Consortium in collaboration with Archive-It to preserve web content related to the ongoing Novel Coronavirus (Covid-19) outbreak. Identification of seed websites and initial web crawling began in February 2020, and the collection will continue to add new content as needed during the course of the pandemic and its containment. High priority subtopics include: coronavirus origins; information about the spread of infection; regional or local containment efforts, including vaccine development and implementation of vaccinations; medical and scientific aspects; social aspects; economic aspects; and political aspects. Websites from anywhere in the world and in any language are in scope. (IIPC, 2020)"
   ]
  },
  {
   "cell_type": "markdown",
   "metadata": {},
   "source": [
    "Number of language (according to the smae webpage): 70. The same webpage indicates that 16,026 URLs have been used as seeds. The three most popular languages being Spanish (6807), English (3316) and Portuguese (2040) (IIPC, 2020), followed by French (827) (date 07/04/2023). \n",
    "\n",
    "To our knowledge, this collection is still expanding.\n",
    "\n",
    "We nevertheless did not access direclty the WARC files. We have used the Archives Unleashed toolkit as part of their Cohort Program with Archive-it. In other words, we could access derived datasets generated from the WARC files but not the warcfiles themselves. For the kind of derived datasets that we could access, please see"
   ]
  },
  {
   "cell_type": "markdown",
   "metadata": {
    "tags": [
     "table-*"
    ]
   },
   "source": [
    "| **Collection**                                                    | **‘These jobs provide a basic overview of the collection**                                                                                                                                                                                                                                                                               |   |\n",
    "|-------------------------------------------------------------------|------------------------------------------------------------------------------------------------------------------------------------------------------------------------------------------------------------------------------------------------------------------------------------------------------------------------------------------|---|\n",
    "| Domain frequency                                                  | Create a CSV with the following columns: domain and count.                                                                                                                                                                                                                                                                               |   |\n",
    "| Generate web archive transformation (WAT) files                   | Creates Web Archive Transformation (WAT) files that include a brief header which identifies its corresponding URL via \"WARC-Target-URI,\" corresponding W/ARC file via \"WARC-Refers-To,\" and additional mapping information.                                                                                                              |   |\n",
    "\n",
    "| **Network**                                                       | **These jobs produce files that provide network graphs for analysis, and offer an opportunity to explore the way websites link to each other.**                                                                                                                                                                                          |   |\n",
    "|-------------------------------------------------------------------|------------------------------------------------------------------------------------------------------------------------------------------------------------------------------------------------------------------------------------------------------------------------------------------------------------------------------------------|---|\n",
    "| Extract domain graph                                              | Create a CSV with the following columns: crawl date, source domain, target domain, and count.                                                                                                                                                                                                                                            |   |\n",
    "| Extract image graph                                               | Create a CSV with the following columns: crawl date, source of the image (where it was hosted), the URL of the image, and the alternative text of the image.                                                                                                                                                                             |   |\n",
    "| Extract longitudinal graph                                        | Creates Longitudinal Graph Analysis (LGA) files which contain a complete list of what URLs link to what URLs, along with a timestamp.                                                                                                                                                                                                    |   |\n",
    "| Extract web graph                                                 | Create a CSV with the following columns: crawl date, source, target, and anchor text. Note that this contains all links and is not aggregated into domains.                                                                                                                                                                              |   |\n",
    "\n",
    "| **Text**                                                          | **These jobs produce files that allow the user to explore text components of a web archive, including extracted \"plain text\", named entities, HTML, css, and other web elements.**                                                                                                                                                       |   |\n",
    "|-------------------------------------------------------------------|------------------------------------------------------------------------------------------------------------------------------------------------------------------------------------------------------------------------------------------------------------------------------------------------------------------------------------------|---|\n",
    "| Extract named entities                                            | Creates Web Archive Named Entities (WANE) files which contain the named entities from each text resource, organized by originating URL and timestamp.                                                                                                                                                                                    |   |\n",
    "| Extract plain text of webpages                                    | Create a CSV with the following columns: crawl date, last modified date, web domain, URL, MIME type as provided by the web server, MIME type as detected by Apache TIKA, and content (HTTP headers and HTML removed).                                                                                                                    |   |\n",
    "| Extract text files (html, text, css, js, json, xml) information   | Create a CSV with the following columns: crawl date, last modified date, URL of the text file, filename, text extension, MIME type as provided by the web server, MIME type as detected by Apache TIKA, text file MD5 hash and text file SHA1 hash, and text file content.                                                               |   |\n",
    "\n",
    "| **File Formats**                                                  | **These jobs produce files that contain information on certain types of binary files found within a web archive.**                                                                                                                                                                                                                       |   |\n",
    "|-------------------------------------------------------------------|------------------------------------------------------------------------------------------------------------------------------------------------------------------------------------------------------------------------------------------------------------------------------------------------------------------------------------------|---|\n",
    "| Extract audio information                                         | Create a CSV with the following columns: crawl date, last modified date, URL of the audio file, filename, audio extension, MIME type as provided by the web server, MIME type as detected by Apache TIKA, audio MD5 hash and audio SHA1 hash.                                                                                            |   |\n",
    "| Extract image information                                         | Create a CSV with the following columns: crawl date, last modified date, URL of the image, filename, image extension, MIME type as provided by the web server, MIME type as detected by Apache TIKA, image width, image height, image MD5 hash and image SHA1 hash.                                                                      |   |\n",
    "| Extract PDF information                                           | Create a CSV with the following columns: crawl date, last modified date, URL of the PDF file, filename, PDF extension, MIME type as provided by the web server, MIME type as detected by Apache TIKA, PDF MD5 hash and PDF SHA1 hash.                                                                                                    |   |\n",
    "| Extract PowerPoint (e.g., .ppt, .odp, .key) information           | Create a CSV with the following columns: crawl date, last modified date, URL of a PowerPoint or similar file, filename, PowerPoint or similar file extension, MIME type as provided by the web server, MIME type as detected by Apache TIKA, PowerPoint or similar file MD5 hash and PowerPoint or similar file SHA1 hash.               |   |\n",
    "| Extract spreadsheet information                                   | Create a CSV with the following columns: crawl date, last modified date, URL of the spreadsheet file, filename, spreadsheet extension, MIME type as provided by the web server, MIME type as detected by Apache TIKA, spreadsheet MD5 hash and spreadsheet SHA1 hash.                                                                    |   |\n",
    "| Extract video information                                         | Create a CSV with the following columns: crawl date, last modified date, URL of the video file, filename, video extension, MIME type as provided by the web server, MIME type as detected by Apache TIKA, video MD5 hash and video SHA1 hash.                                                                                            |   |\n",
    "| Extract Word Documents (e.g., .doc, .odt, .rtf, .wpd) information | Create a CSV with the following columns: crawl date, last modified date, URL of the word document or similar file, filename, word document or similar file extension, MIME type as provided by the web server, MIME type as detected by Apache TIKA, word document or similar file MD5 hash and word document or similar file SHA1 hash. |   |"
   ]
  },
  {
   "attachments": {},
   "cell_type": "markdown",
   "metadata": {
    "tags": [
     "hemeneutics",
     "table-*"
    ]
   },
   "source": [
    "| crawl_date\t| domain |\turl |\tmime_type_web_server |\tmime_type_tika |\tlanguage |\tcontent |\n",
    "|---------------|--------|------|------------------------|-----------------|-------------|----------|\n",
    "| 20200309191009 |\tcdc.gov |\thttps://www.cdc.gov/coronavirus/2019-ncov/index.html |\ttext/html |\ttext/html |\ten |\tCoronavirus Disease 2019 (COVID-19) CDC Skip directly to site content Skip directly to page options Skip directly to A-Z link Centers for Disease Control and Prevention (...) |"
   ]
  },
  {
   "cell_type": "markdown",
   "metadata": {
    "tags": [
     "hermeneutics"
    ]
   },
   "source": [
    "For this article, to reduce the size of the dataset -- today 9.4Gb compressed with 8,738,751 lines -- we have decided to restrict ourselves to a specific period of time: the first half of 2020, that corresponds to the rise of the pandemics and to the moment when up to half the humanity was incited to or had to respectlockdown-related measures. We also restricted it to pages in English, as for this article, the important element is to deal with copies and versions, language as well as a too high number of pages are not necessary."
   ]
  },
  {
   "cell_type": "code",
   "execution_count": 12,
   "metadata": {},
   "outputs": [
    {
     "data": {
      "text/plain": [
       "1693556"
      ]
     },
     "execution_count": 12,
     "metadata": {},
     "output_type": "execute_result"
    }
   ],
   "source": [
    "import pandas as pd\n",
    "import numpy as np\n",
    "import matplotlib.pyplot as plt\n",
    "import altair as alt\n",
    "\n",
    "# We load the dataset. Beware, it remains quite huge. Code corrected by GitHub Copilot.\n",
    "\n",
    "# We first define dtype_dict ie the types of column but crawl_date as we will parse this column\n",
    "dtype_dict={'domain': str, 'url': str, 'mime_type_web_server': str, 'mime_type_tika': str, 'content':str,'language':str}\n",
    "# We load the csv as a dataframe. Remove (or add) the nrows=100000 if you want to load the whole dataframe or just a part.\n",
    "web_pages =  pd.read_csv('data/web-pages.csv', usecols=['crawl_date','domain','url','content','language'], dtype=dtype_dict, parse_dates=['crawl_date'])\n",
    "# we add a 'date' column that will allow us to fastly group by day \n",
    "web_pages['date'] = web_pages['crawl_date'].dt.date\n",
    "# We parse the column date\n",
    "web_pages['date'] = pd.to_datetime(web_pages['date'])\n",
    "len(web_pages.index)"
   ]
  },
  {
   "cell_type": "code",
   "execution_count": 3,
   "metadata": {},
   "outputs": [],
   "source": [
    "web_pages_count_byCrawlDate = web_pages.groupby(['date']).size().reset_index(name='count')\n",
    "web_pages_count_byCrawlDate['date'] = pd.to_datetime(web_pages_count_byCrawlDate['date'])\n",
    "web_pages_count_byCrawlDate['date'] = web_pages_count_byCrawlDate['date'].dt.strftime('%Y-%m-%d')"
   ]
  },
  {
   "cell_type": "code",
   "execution_count": 4,
   "metadata": {
    "tags": [
     "figure-*",
     "hermeneutics"
    ]
   },
   "outputs": [
    {
     "name": "stderr",
     "output_type": "stream",
     "text": [
      "/Users/frederic.clavert/anaconda3/envs/versioning/lib/python3.9/site-packages/altair/utils/core.py:283: FutureWarning: iteritems is deprecated and will be removed in a future version. Use .items instead.\n",
      "  for col_name, dtype in df.dtypes.iteritems():\n"
     ]
    },
    {
     "data": {
      "text/html": [
       "\n",
       "<div id=\"altair-viz-f9475d2f989f4471831981d35a4e6d28\"></div>\n",
       "<script type=\"text/javascript\">\n",
       "  (function(spec, embedOpt){\n",
       "    let outputDiv = document.currentScript.previousElementSibling;\n",
       "    if (outputDiv.id !== \"altair-viz-f9475d2f989f4471831981d35a4e6d28\") {\n",
       "      outputDiv = document.getElementById(\"altair-viz-f9475d2f989f4471831981d35a4e6d28\");\n",
       "    }\n",
       "    const paths = {\n",
       "      \"vega\": \"https://cdn.jsdelivr.net/npm//vega@5?noext\",\n",
       "      \"vega-lib\": \"https://cdn.jsdelivr.net/npm//vega-lib?noext\",\n",
       "      \"vega-lite\": \"https://cdn.jsdelivr.net/npm//vega-lite@4.8.1?noext\",\n",
       "      \"vega-embed\": \"https://cdn.jsdelivr.net/npm//vega-embed@6?noext\",\n",
       "    };\n",
       "\n",
       "    function loadScript(lib) {\n",
       "      return new Promise(function(resolve, reject) {\n",
       "        var s = document.createElement('script');\n",
       "        s.src = paths[lib];\n",
       "        s.async = true;\n",
       "        s.onload = () => resolve(paths[lib]);\n",
       "        s.onerror = () => reject(`Error loading script: ${paths[lib]}`);\n",
       "        document.getElementsByTagName(\"head\")[0].appendChild(s);\n",
       "      });\n",
       "    }\n",
       "\n",
       "    function showError(err) {\n",
       "      outputDiv.innerHTML = `<div class=\"error\" style=\"color:red;\">${err}</div>`;\n",
       "      throw err;\n",
       "    }\n",
       "\n",
       "    function displayChart(vegaEmbed) {\n",
       "      vegaEmbed(outputDiv, spec, embedOpt)\n",
       "        .catch(err => showError(`Javascript Error: ${err.message}<br>This usually means there's a typo in your chart specification. See the javascript console for the full traceback.`));\n",
       "    }\n",
       "\n",
       "    if(typeof define === \"function\" && define.amd) {\n",
       "      requirejs.config({paths});\n",
       "      require([\"vega-embed\"], displayChart, err => showError(`Error loading script: ${err.message}`));\n",
       "    } else if (typeof vegaEmbed === \"function\") {\n",
       "      displayChart(vegaEmbed);\n",
       "    } else {\n",
       "      loadScript(\"vega\")\n",
       "        .then(() => loadScript(\"vega-lite\"))\n",
       "        .then(() => loadScript(\"vega-embed\"))\n",
       "        .catch(showError)\n",
       "        .then(() => displayChart(vegaEmbed));\n",
       "    }\n",
       "  })({\"config\": {\"view\": {\"continuousWidth\": 400, \"continuousHeight\": 300}}, \"data\": {\"name\": \"data-96960f0f786d3f866f9538fe8d316543\"}, \"mark\": \"bar\", \"encoding\": {\"order\": {\"type\": \"nominal\", \"field\": \"date\", \"sort\": \"descending\"}, \"tooltip\": {\"type\": \"quantitative\", \"field\": \"count\"}, \"x\": {\"type\": \"ordinal\", \"field\": \"date\"}, \"y\": {\"type\": \"quantitative\", \"field\": \"count\"}}, \"height\": 700, \"title\": \"Crawl frequency by date\", \"width\": 800, \"$schema\": \"https://vega.github.io/schema/vega-lite/v4.8.1.json\", \"datasets\": {\"data-96960f0f786d3f866f9538fe8d316543\": [{\"date\": \"2020-02-21\", \"count\": 5901}, {\"date\": \"2020-02-22\", \"count\": 20376}, {\"date\": \"2020-02-23\", \"count\": 20806}, {\"date\": \"2020-02-24\", \"count\": 14886}, {\"date\": \"2020-02-25\", \"count\": 13463}, {\"date\": \"2020-02-26\", \"count\": 8435}, {\"date\": \"2020-02-27\", \"count\": 55}, {\"date\": \"2020-02-28\", \"count\": 802}, {\"date\": \"2020-02-29\", \"count\": 229}, {\"date\": \"2020-03-01\", \"count\": 233}, {\"date\": \"2020-03-05\", \"count\": 4528}, {\"date\": \"2020-03-06\", \"count\": 32431}, {\"date\": \"2020-03-07\", \"count\": 11103}, {\"date\": \"2020-03-08\", \"count\": 7592}, {\"date\": \"2020-03-09\", \"count\": 1578}, {\"date\": \"2020-03-10\", \"count\": 5894}, {\"date\": \"2020-03-12\", \"count\": 1}, {\"date\": \"2020-03-14\", \"count\": 8995}, {\"date\": \"2020-03-15\", \"count\": 87878}, {\"date\": \"2020-03-16\", \"count\": 39412}, {\"date\": \"2020-03-17\", \"count\": 35074}, {\"date\": \"2020-03-18\", \"count\": 2047}, {\"date\": \"2020-03-19\", \"count\": 7788}, {\"date\": \"2020-03-20\", \"count\": 15147}, {\"date\": \"2020-03-21\", \"count\": 46561}, {\"date\": \"2020-03-22\", \"count\": 40720}, {\"date\": \"2020-03-23\", \"count\": 34696}, {\"date\": \"2020-03-24\", \"count\": 49846}, {\"date\": \"2020-03-25\", \"count\": 34956}, {\"date\": \"2020-03-26\", \"count\": 5788}, {\"date\": \"2020-03-27\", \"count\": 21373}, {\"date\": \"2020-03-28\", \"count\": 36682}, {\"date\": \"2020-03-29\", \"count\": 26372}, {\"date\": \"2020-03-30\", \"count\": 46281}, {\"date\": \"2020-03-31\", \"count\": 21821}, {\"date\": \"2020-04-01\", \"count\": 3724}, {\"date\": \"2020-04-02\", \"count\": 9525}, {\"date\": \"2020-04-03\", \"count\": 17727}, {\"date\": \"2020-04-04\", \"count\": 35027}, {\"date\": \"2020-04-05\", \"count\": 10813}, {\"date\": \"2020-04-06\", \"count\": 2830}, {\"date\": \"2020-04-07\", \"count\": 22963}, {\"date\": \"2020-04-08\", \"count\": 16968}, {\"date\": \"2020-04-09\", \"count\": 54495}, {\"date\": \"2020-04-10\", \"count\": 79602}, {\"date\": \"2020-04-11\", \"count\": 81750}, {\"date\": \"2020-04-12\", \"count\": 59190}, {\"date\": \"2020-04-13\", \"count\": 26052}, {\"date\": \"2020-04-14\", \"count\": 41252}, {\"date\": \"2020-04-15\", \"count\": 9325}, {\"date\": \"2020-04-16\", \"count\": 8722}, {\"date\": \"2020-04-17\", \"count\": 11231}, {\"date\": \"2020-04-18\", \"count\": 16564}, {\"date\": \"2020-04-19\", \"count\": 37700}, {\"date\": \"2020-04-20\", \"count\": 39174}, {\"date\": \"2020-04-21\", \"count\": 26399}, {\"date\": \"2020-04-22\", \"count\": 11376}, {\"date\": \"2020-04-23\", \"count\": 5786}, {\"date\": \"2020-04-24\", \"count\": 19564}, {\"date\": \"2020-04-25\", \"count\": 15225}, {\"date\": \"2020-04-26\", \"count\": 11111}, {\"date\": \"2020-04-27\", \"count\": 5580}, {\"date\": \"2020-04-28\", \"count\": 5536}, {\"date\": \"2020-04-29\", \"count\": 4108}, {\"date\": \"2020-04-30\", \"count\": 14526}, {\"date\": \"2020-05-01\", \"count\": 15015}, {\"date\": \"2020-05-02\", \"count\": 15650}, {\"date\": \"2020-05-03\", \"count\": 4619}, {\"date\": \"2020-05-04\", \"count\": 8887}, {\"date\": \"2020-05-05\", \"count\": 14501}, {\"date\": \"2020-05-06\", \"count\": 9179}, {\"date\": \"2020-05-07\", \"count\": 7620}, {\"date\": \"2020-05-08\", \"count\": 7000}, {\"date\": \"2020-05-09\", \"count\": 17694}, {\"date\": \"2020-05-10\", \"count\": 12966}, {\"date\": \"2020-05-11\", \"count\": 6874}, {\"date\": \"2020-05-12\", \"count\": 2691}, {\"date\": \"2020-05-13\", \"count\": 4165}, {\"date\": \"2020-05-14\", \"count\": 25}, {\"date\": \"2020-05-15\", \"count\": 2673}, {\"date\": \"2020-05-16\", \"count\": 10756}, {\"date\": \"2020-05-17\", \"count\": 6949}, {\"date\": \"2020-05-18\", \"count\": 5284}, {\"date\": \"2020-05-19\", \"count\": 2751}, {\"date\": \"2020-05-20\", \"count\": 421}, {\"date\": \"2020-05-22\", \"count\": 1502}, {\"date\": \"2020-05-23\", \"count\": 9339}, {\"date\": \"2020-05-24\", \"count\": 4036}, {\"date\": \"2020-05-25\", \"count\": 5351}, {\"date\": \"2020-05-26\", \"count\": 5103}, {\"date\": \"2020-05-27\", \"count\": 2969}, {\"date\": \"2020-05-28\", \"count\": 24}, {\"date\": \"2020-05-29\", \"count\": 703}, {\"date\": \"2020-05-30\", \"count\": 611}, {\"date\": \"2020-05-31\", \"count\": 64}, {\"date\": \"2020-06-02\", \"count\": 60}, {\"date\": \"2020-06-04\", \"count\": 1333}, {\"date\": \"2020-06-05\", \"count\": 6668}, {\"date\": \"2020-06-06\", \"count\": 5697}, {\"date\": \"2020-06-07\", \"count\": 4614}, {\"date\": \"2020-06-08\", \"count\": 4892}, {\"date\": \"2020-06-09\", \"count\": 4149}, {\"date\": \"2020-06-10\", \"count\": 137}, {\"date\": \"2020-06-11\", \"count\": 9}, {\"date\": \"2020-06-12\", \"count\": 2347}, {\"date\": \"2020-06-13\", \"count\": 3278}, {\"date\": \"2020-06-14\", \"count\": 876}, {\"date\": \"2020-06-15\", \"count\": 817}, {\"date\": \"2020-06-16\", \"count\": 2036}, {\"date\": \"2020-06-17\", \"count\": 16489}, {\"date\": \"2020-06-18\", \"count\": 15057}, {\"date\": \"2020-06-19\", \"count\": 627}, {\"date\": \"2020-06-20\", \"count\": 17}, {\"date\": \"2020-06-22\", \"count\": 20}, {\"date\": \"2020-06-24\", \"count\": 1147}, {\"date\": \"2020-06-25\", \"count\": 6953}, {\"date\": \"2020-06-26\", \"count\": 3552}, {\"date\": \"2020-06-27\", \"count\": 3301}, {\"date\": \"2020-06-28\", \"count\": 3519}, {\"date\": \"2020-06-29\", \"count\": 3703}, {\"date\": \"2020-06-30\", \"count\": 3241}]}}, {\"mode\": \"vega-lite\"});\n",
       "</script>"
      ],
      "text/plain": [
       "alt.Chart(...)"
      ]
     },
     "execution_count": 4,
     "metadata": {},
     "output_type": "execute_result"
    }
   ],
   "source": [
    "alt.data_transformers.disable_max_rows()\n",
    "\n",
    "crawl_chart = (\n",
    "    alt.Chart(web_pages_count_byCrawlDate)\n",
    "    .mark_bar()\n",
    "    .encode(\n",
    "        x=\"date:O\",\n",
    "        y=\"count:Q\",\n",
    "        tooltip=\"count\",\n",
    "        order=alt.Order(\"date\", sort=\"descending\"),\n",
    "    )\n",
    ")\n",
    "\n",
    "crawl_chart.properties(width=800, height=700, title=\"Crawl frequency by date\")"
   ]
  },
  {
   "cell_type": "code",
   "execution_count": 5,
   "metadata": {
    "scrolled": true,
    "tags": [
     "figure-*",
     "hermeneutics"
    ]
   },
   "outputs": [
    {
     "name": "stderr",
     "output_type": "stream",
     "text": [
      "/Users/frederic.clavert/anaconda3/envs/versioning/lib/python3.9/site-packages/altair/utils/core.py:283: FutureWarning: iteritems is deprecated and will be removed in a future version. Use .items instead.\n",
      "  for col_name, dtype in df.dtypes.iteritems():\n"
     ]
    },
    {
     "data": {
      "text/html": [
       "\n",
       "<div id=\"altair-viz-518e787335d04210be5a467886d79461\"></div>\n",
       "<script type=\"text/javascript\">\n",
       "  (function(spec, embedOpt){\n",
       "    let outputDiv = document.currentScript.previousElementSibling;\n",
       "    if (outputDiv.id !== \"altair-viz-518e787335d04210be5a467886d79461\") {\n",
       "      outputDiv = document.getElementById(\"altair-viz-518e787335d04210be5a467886d79461\");\n",
       "    }\n",
       "    const paths = {\n",
       "      \"vega\": \"https://cdn.jsdelivr.net/npm//vega@5?noext\",\n",
       "      \"vega-lib\": \"https://cdn.jsdelivr.net/npm//vega-lib?noext\",\n",
       "      \"vega-lite\": \"https://cdn.jsdelivr.net/npm//vega-lite@4.8.1?noext\",\n",
       "      \"vega-embed\": \"https://cdn.jsdelivr.net/npm//vega-embed@6?noext\",\n",
       "    };\n",
       "\n",
       "    function loadScript(lib) {\n",
       "      return new Promise(function(resolve, reject) {\n",
       "        var s = document.createElement('script');\n",
       "        s.src = paths[lib];\n",
       "        s.async = true;\n",
       "        s.onload = () => resolve(paths[lib]);\n",
       "        s.onerror = () => reject(`Error loading script: ${paths[lib]}`);\n",
       "        document.getElementsByTagName(\"head\")[0].appendChild(s);\n",
       "      });\n",
       "    }\n",
       "\n",
       "    function showError(err) {\n",
       "      outputDiv.innerHTML = `<div class=\"error\" style=\"color:red;\">${err}</div>`;\n",
       "      throw err;\n",
       "    }\n",
       "\n",
       "    function displayChart(vegaEmbed) {\n",
       "      vegaEmbed(outputDiv, spec, embedOpt)\n",
       "        .catch(err => showError(`Javascript Error: ${err.message}<br>This usually means there's a typo in your chart specification. See the javascript console for the full traceback.`));\n",
       "    }\n",
       "\n",
       "    if(typeof define === \"function\" && define.amd) {\n",
       "      requirejs.config({paths});\n",
       "      require([\"vega-embed\"], displayChart, err => showError(`Error loading script: ${err.message}`));\n",
       "    } else if (typeof vegaEmbed === \"function\") {\n",
       "      displayChart(vegaEmbed);\n",
       "    } else {\n",
       "      loadScript(\"vega\")\n",
       "        .then(() => loadScript(\"vega-lite\"))\n",
       "        .then(() => loadScript(\"vega-embed\"))\n",
       "        .catch(showError)\n",
       "        .then(() => displayChart(vegaEmbed));\n",
       "    }\n",
       "  })({\"config\": {\"view\": {\"continuousWidth\": 400, \"continuousHeight\": 300}}, \"data\": {\"name\": \"data-1568067e10634b992c322124b1127a06\"}, \"mark\": \"bar\", \"encoding\": {\"order\": {\"type\": \"quantitative\", \"field\": \"count\", \"sort\": \"descending\"}, \"tooltip\": {\"type\": \"quantitative\", \"field\": \"count\"}, \"x\": {\"type\": \"nominal\", \"field\": \"domain\"}, \"y\": {\"type\": \"quantitative\", \"field\": \"count\"}}, \"height\": 700, \"title\": \"Crawl frequency by domain\", \"width\": 800, \"$schema\": \"https://vega.github.io/schema/vega-lite/v4.8.1.json\", \"datasets\": {\"data-1568067e10634b992c322124b1127a06\": [{\"domain\": \"europa.eu\", \"count\": 39988}, {\"domain\": \"yahoo.com\", \"count\": 35534}, {\"domain\": \"health.gov.au\", \"count\": 20999}, {\"domain\": \"nihb.org\", \"count\": 17558}, {\"domain\": \"arcgis.com\", \"count\": 17258}, {\"domain\": \"wfu.edu\", \"count\": 15885}, {\"domain\": \"wordpress.com\", \"count\": 15720}, {\"domain\": \"wordpress.org\", \"count\": 15393}, {\"domain\": \"usp.br\", \"count\": 13659}, {\"domain\": \"ovidds.com\", \"count\": 12364}, {\"domain\": \"portage.wi.us\", \"count\": 10726}, {\"domain\": \"ssrn.com\", \"count\": 10413}, {\"domain\": \"reuters.com\", \"count\": 9691}, {\"domain\": \"cochrane.org\", \"count\": 9542}, {\"domain\": \"inserm.fr\", \"count\": 9222}, {\"domain\": \"wikidata.org\", \"count\": 7264}, {\"domain\": \"dsb.dk\", \"count\": 6752}, {\"domain\": \"statista.com\", \"count\": 6748}, {\"domain\": \"sana.sy\", \"count\": 6695}, {\"domain\": \"ctvnews.ca\", \"count\": 6690}]}}, {\"mode\": \"vega-lite\"});\n",
       "</script>"
      ],
      "text/plain": [
       "alt.Chart(...)"
      ]
     },
     "execution_count": 5,
     "metadata": {},
     "output_type": "execute_result"
    }
   ],
   "source": [
    "web_pages_count_byDomain = web_pages.groupby(['domain']).size().reset_index(name='count')\n",
    "web_pages_count_byDomain = web_pages_count_byDomain.sort_values(ascending=False, by='count')\n",
    "topDomain = web_pages_count_byDomain.sort_values(ascending=False, by='count').head(20)\n",
    "\n",
    "\n",
    "alt.data_transformers.disable_max_rows()\n",
    "\n",
    "crawl_chart = (\n",
    "    alt.Chart(topDomain)\n",
    "    .mark_bar()\n",
    "    .encode(\n",
    "        x=\"domain\",\n",
    "        y=\"count\",\n",
    "        tooltip=\"count\",\n",
    "        order=alt.Order(\"count\", sort=\"descending\"),\n",
    "    )\n",
    ")\n",
    "\n",
    "crawl_chart.properties(width=800, height=700, title=\"Crawl frequency by domain\")"
   ]
  },
  {
   "cell_type": "markdown",
   "metadata": {
    "tags": [
     "hermeneutics"
    ]
   },
   "source": [
    "Before we move to the core of this article, we decided to pursue one more operation: though one of the aim of the article is to discover copies and versions, we think that full copies (ie where crawl_date, URL and content are identical) are out of the scope of this article in the sense that those full copies are more likely to be harvesting errors than copies as we defined them (identical in content and URL but not harvested at the exact same date and hour."
   ]
  },
  {
   "cell_type": "code",
   "execution_count": 6,
   "metadata": {
    "scrolled": true
   },
   "outputs": [
    {
     "data": {
      "text/html": [
       "<div>\n",
       "<style scoped>\n",
       "    .dataframe tbody tr th:only-of-type {\n",
       "        vertical-align: middle;\n",
       "    }\n",
       "\n",
       "    .dataframe tbody tr th {\n",
       "        vertical-align: top;\n",
       "    }\n",
       "\n",
       "    .dataframe thead th {\n",
       "        text-align: right;\n",
       "    }\n",
       "</style>\n",
       "<table border=\"1\" class=\"dataframe\">\n",
       "  <thead>\n",
       "    <tr style=\"text-align: right;\">\n",
       "      <th></th>\n",
       "      <th>crawl_date</th>\n",
       "      <th>domain</th>\n",
       "      <th>url</th>\n",
       "      <th>language</th>\n",
       "      <th>content</th>\n",
       "      <th>date</th>\n",
       "    </tr>\n",
       "  </thead>\n",
       "  <tbody>\n",
       "    <tr>\n",
       "      <th>0</th>\n",
       "      <td>2020-02-21 18:46:21+00:00</td>\n",
       "      <td>cpplus.jp</td>\n",
       "      <td>http://www.cpplus.jp/</td>\n",
       "      <td>en</td>\n",
       "      <td>CP+2020　カメラと写真映像のワールドプレミアショー「CP+（シーピープラス）」 カメラ...</td>\n",
       "      <td>2020-02-21</td>\n",
       "    </tr>\n",
       "    <tr>\n",
       "      <th>1</th>\n",
       "      <td>2020-02-21 18:46:30+00:00</td>\n",
       "      <td>china-embassy.org</td>\n",
       "      <td>http://dk.china-embassy.org/eng/zdgx/t1736581.htm</td>\n",
       "      <td>en</td>\n",
       "      <td>Statement by Spokesperson of the Chinese Embas...</td>\n",
       "      <td>2020-02-21</td>\n",
       "    </tr>\n",
       "    <tr>\n",
       "      <th>2</th>\n",
       "      <td>2020-02-21 18:46:49+00:00</td>\n",
       "      <td>cpplus.jp</td>\n",
       "      <td>http://www.cpplus.jp/ch/</td>\n",
       "      <td>en</td>\n",
       "      <td>CP+2020　相机及影像的世界首演展览会 相机及影像的世界首演展览会 常见问题解答 一般观...</td>\n",
       "      <td>2020-02-21</td>\n",
       "    </tr>\n",
       "    <tr>\n",
       "      <th>3</th>\n",
       "      <td>2020-02-21 18:47:23+00:00</td>\n",
       "      <td>mothership.sg</td>\n",
       "      <td>https://mothership.sg/2020/01/denmark-china-co...</td>\n",
       "      <td>en</td>\n",
       "      <td>﻿ China demands apology over coronavirus flag ...</td>\n",
       "      <td>2020-02-21</td>\n",
       "    </tr>\n",
       "    <tr>\n",
       "      <th>4</th>\n",
       "      <td>2020-02-21 18:47:52+00:00</td>\n",
       "      <td>mothership.sg</td>\n",
       "      <td>https://mothership.sg/2020/01/denmark-china-co...</td>\n",
       "      <td>en</td>\n",
       "      <td>﻿ China demands apology over coronavirus flag ...</td>\n",
       "      <td>2020-02-21</td>\n",
       "    </tr>\n",
       "    <tr>\n",
       "      <th>...</th>\n",
       "      <td>...</td>\n",
       "      <td>...</td>\n",
       "      <td>...</td>\n",
       "      <td>...</td>\n",
       "      <td>...</td>\n",
       "      <td>...</td>\n",
       "    </tr>\n",
       "    <tr>\n",
       "      <th>1693551</th>\n",
       "      <td>2020-06-30 19:23:55+00:00</td>\n",
       "      <td>usp.br</td>\n",
       "      <td>https://repositoriodatasharingfapesp.uspdigita...</td>\n",
       "      <td>en</td>\n",
       "      <td>Search DSpace Repository Search DSpace Home → ...</td>\n",
       "      <td>2020-06-30</td>\n",
       "    </tr>\n",
       "    <tr>\n",
       "      <th>1693552</th>\n",
       "      <td>2020-06-30 19:23:57+00:00</td>\n",
       "      <td>usp.br</td>\n",
       "      <td>https://repositoriodatasharingfapesp.uspdigita...</td>\n",
       "      <td>en</td>\n",
       "      <td>Search DSpace Repository Search DSpace Home → ...</td>\n",
       "      <td>2020-06-30</td>\n",
       "    </tr>\n",
       "    <tr>\n",
       "      <th>1693553</th>\n",
       "      <td>2020-06-30 19:24:05+00:00</td>\n",
       "      <td>inactievoorerasmusmc.nl</td>\n",
       "      <td>https://corona.inactievoorerasmusmc.nl/deelnem...</td>\n",
       "      <td>en</td>\n",
       "      <td>Corona Login Choose your language Nederlands F...</td>\n",
       "      <td>2020-06-30</td>\n",
       "    </tr>\n",
       "    <tr>\n",
       "      <th>1693554</th>\n",
       "      <td>2020-06-30 19:24:45+00:00</td>\n",
       "      <td>usp.br</td>\n",
       "      <td>https://repositoriodatasharingfapesp.uspdigita...</td>\n",
       "      <td>en</td>\n",
       "      <td>Search DSpace Repository Search DSpace Home → ...</td>\n",
       "      <td>2020-06-30</td>\n",
       "    </tr>\n",
       "    <tr>\n",
       "      <th>1693555</th>\n",
       "      <td>2020-06-30 19:24:46+00:00</td>\n",
       "      <td>usp.br</td>\n",
       "      <td>https://repositoriodatasharingfapesp.uspdigita...</td>\n",
       "      <td>en</td>\n",
       "      <td>Search DSpace Repository Search DSpace Home → ...</td>\n",
       "      <td>2020-06-30</td>\n",
       "    </tr>\n",
       "  </tbody>\n",
       "</table>\n",
       "<p>1691786 rows × 6 columns</p>\n",
       "</div>"
      ],
      "text/plain": [
       "                       crawl_date                   domain  \\\n",
       "0       2020-02-21 18:46:21+00:00                cpplus.jp   \n",
       "1       2020-02-21 18:46:30+00:00        china-embassy.org   \n",
       "2       2020-02-21 18:46:49+00:00                cpplus.jp   \n",
       "3       2020-02-21 18:47:23+00:00            mothership.sg   \n",
       "4       2020-02-21 18:47:52+00:00            mothership.sg   \n",
       "...                           ...                      ...   \n",
       "1693551 2020-06-30 19:23:55+00:00                   usp.br   \n",
       "1693552 2020-06-30 19:23:57+00:00                   usp.br   \n",
       "1693553 2020-06-30 19:24:05+00:00  inactievoorerasmusmc.nl   \n",
       "1693554 2020-06-30 19:24:45+00:00                   usp.br   \n",
       "1693555 2020-06-30 19:24:46+00:00                   usp.br   \n",
       "\n",
       "                                                       url language  \\\n",
       "0                                    http://www.cpplus.jp/       en   \n",
       "1        http://dk.china-embassy.org/eng/zdgx/t1736581.htm       en   \n",
       "2                                 http://www.cpplus.jp/ch/       en   \n",
       "3        https://mothership.sg/2020/01/denmark-china-co...       en   \n",
       "4        https://mothership.sg/2020/01/denmark-china-co...       en   \n",
       "...                                                    ...      ...   \n",
       "1693551  https://repositoriodatasharingfapesp.uspdigita...       en   \n",
       "1693552  https://repositoriodatasharingfapesp.uspdigita...       en   \n",
       "1693553  https://corona.inactievoorerasmusmc.nl/deelnem...       en   \n",
       "1693554  https://repositoriodatasharingfapesp.uspdigita...       en   \n",
       "1693555  https://repositoriodatasharingfapesp.uspdigita...       en   \n",
       "\n",
       "                                                   content       date  \n",
       "0        CP+2020　カメラと写真映像のワールドプレミアショー「CP+（シーピープラス）」 カメラ... 2020-02-21  \n",
       "1        Statement by Spokesperson of the Chinese Embas... 2020-02-21  \n",
       "2        CP+2020　相机及影像的世界首演展览会 相机及影像的世界首演展览会 常见问题解答 一般观... 2020-02-21  \n",
       "3        ﻿ China demands apology over coronavirus flag ... 2020-02-21  \n",
       "4        ﻿ China demands apology over coronavirus flag ... 2020-02-21  \n",
       "...                                                    ...        ...  \n",
       "1693551  Search DSpace Repository Search DSpace Home → ... 2020-06-30  \n",
       "1693552  Search DSpace Repository Search DSpace Home → ... 2020-06-30  \n",
       "1693553  Corona Login Choose your language Nederlands F... 2020-06-30  \n",
       "1693554  Search DSpace Repository Search DSpace Home → ... 2020-06-30  \n",
       "1693555  Search DSpace Repository Search DSpace Home → ... 2020-06-30  \n",
       "\n",
       "[1691786 rows x 6 columns]"
      ]
     },
     "execution_count": 6,
     "metadata": {},
     "output_type": "execute_result"
    }
   ],
   "source": [
    "web_pages.drop_duplicates(subset=['crawl_date', 'url', 'content'], inplace=True)\n",
    "web_pages"
   ]
  },
  {
   "cell_type": "markdown",
   "metadata": {},
   "source": [
    "Full duplicates are then 1693556 - 1691786 = 1770."
   ]
  },
  {
   "cell_type": "markdown",
   "metadata": {},
   "source": [
    "Decision to make before we start to test: should we test for individual URLs, or should we test on web domain level, that is websites (groups of individual URLs with the same domain name)? Helmond et al. (2012) focus on individual URLs (to be checked), Fage-Butler et al. (2022) focus on web domains (to be checked), and the analysis of the Danish web in Brügger et al. (2020) also focus on web domains."
   ]
  },
  {
   "cell_type": "markdown",
   "metadata": {},
   "source": [
    "I suggest we do both:\n",
    "Test (i) will test exact URLs (in this case completeness relates to the entire collection that one ends with),\n",
    "Test (ii) will test web domains by looking at individual URLs within the same web domain (in this case completeness relates to each web domain as well as to the entire collection)."
   ]
  },
  {
   "cell_type": "markdown",
   "metadata": {},
   "source": [
    "In the following we will operationalise each of the possible solutions from sections 2.1 and 2.2 above to test and compare them on the dataset and to discuss their possible analytical consequences. In addition to what is mentioned below we could select a couple of measuring points to check in all tests, e.g. number of specific MIME types."
   ]
  },
  {
   "cell_type": "markdown",
   "metadata": {},
   "source": [
    "The aim of the following test is to compare and discuss advantages and disadvantages of each approach, but the test designs may also be used by researchers who want to make selections in their dataset."
   ]
  },
  {
   "cell_type": "markdown",
   "metadata": {},
   "source": [
    "### The scale of the problem?"
   ]
  },
  {
   "cell_type": "markdown",
   "metadata": {},
   "source": [
    "First we have to find out the scale of the problem in our specific dataset, that is: how many copies and how many versions exist of the same URL?"
   ]
  },
  {
   "cell_type": "markdown",
   "metadata": {},
   "source": [
    "Test step 1 in pseudo code:\n",
    "- insert a new column in the dataset where it can be marked whether the URL is a copy or a version (we will be needing that in the following steps),\n",
    "- identify identical URLs,\n",
    "- decision, meeting 29 Mar: we use crawl_date,URL,content; check their checksum to identify copies (in case this is not possible: check their file size which does not allow for a 100% identification (two URLs of the same size need not be identical), but it’s probably the best proxy if checksums are not available),\n",
    "- mark as ‘copy’ in new column,\n",
    "- calculate how many copies exist of each URL,\n",
    "- the rest of the identical URLs are considered versions,\n",
    "- mark as ‘version’ in new column,\n",
    "- calculate how many versions exist of each URL.\n",
    "\n",
    "If possible we can then distribute copies and versions on a timeline and mark which URLs are copies and which are versions, the latter step based on information in the added column. See example slide below."
   ]
  },
  {
   "cell_type": "code",
   "execution_count": 7,
   "metadata": {
    "scrolled": true,
    "tags": [
     "figure-*"
    ]
   },
   "outputs": [
    {
     "data": {
      "image/png": "[encoded data removed]",
      "text/plain": [
       "<IPython.core.display.Image object>"
      ]
     },
     "metadata": {
      "jdh": {
       "module": "object",
       "object": {
        "source": [
         "The scale of the problem"
        ],
        "type": "image"
       }
      }
     },
     "output_type": "display_data"
    }
   ],
   "source": [
    "from IPython.display import Image \n",
    "metadata={\n",
    "    \"jdh\": {\n",
    "        \"module\": \"object\",\n",
    "        \"object\": {\n",
    "            \"type\":\"image\",\n",
    "            \"source\": [\n",
    "                \"The scale of the problem\"\n",
    "            ]\n",
    "        }\n",
    "    }\n",
    "}\n",
    "display(Image(\"media/figure-1.png\"), metadata=metadata)"
   ]
  },
  {
   "cell_type": "code",
   "execution_count": 46,
   "metadata": {
    "scrolled": true
   },
   "outputs": [
    {
     "data": {
      "text/plain": [
       "192553"
      ]
     },
     "execution_count": 46,
     "metadata": {},
     "output_type": "execute_result"
    }
   ],
   "source": [
    "#Then let's count the number of time unique URLs appear\n",
    "\n",
    "url_counts = web_pages['url'].value_counts().reset_index(name='count')\n",
    "url_counts['count'] = url_counts['count'].astype(int)\n",
    "\n",
    "\n",
    "filtered_urls = url_counts['count'] > 1\n",
    "url_counts_filtered = url_counts[filtered_urls]\n",
    "\n",
    "#filtered_urls = filtered_urls.dropna(subset=['count'])\n",
    "\n",
    "#filtered_table = filtered_urls.DataFrame({'index': filtered_urls.index, 'count': filtered_urls.values})\n",
    "\n",
    "\n",
    "len(url_counts_filtered)"
   ]
  },
  {
   "cell_type": "code",
   "execution_count": 55,
   "metadata": {
    "scrolled": true
   },
   "outputs": [
    {
     "data": {
      "text/html": [
       "\n",
       "<div id=\"altair-viz-d2eaf5b6353f490e83512ec12e43eb21\"></div>\n",
       "<script type=\"text/javascript\">\n",
       "  (function(spec, embedOpt){\n",
       "    let outputDiv = document.currentScript.previousElementSibling;\n",
       "    if (outputDiv.id !== \"altair-viz-d2eaf5b6353f490e83512ec12e43eb21\") {\n",
       "      outputDiv = document.getElementById(\"altair-viz-d2eaf5b6353f490e83512ec12e43eb21\");\n",
       "    }\n",
       "    const paths = {\n",
       "      \"vega\": \"https://cdn.jsdelivr.net/npm//vega@5?noext\",\n",
       "      \"vega-lib\": \"https://cdn.jsdelivr.net/npm//vega-lib?noext\",\n",
       "      \"vega-lite\": \"https://cdn.jsdelivr.net/npm//vega-lite@4.8.1?noext\",\n",
       "      \"vega-embed\": \"https://cdn.jsdelivr.net/npm//vega-embed@6?noext\",\n",
       "    };\n",
       "\n",
       "    function loadScript(lib) {\n",
       "      return new Promise(function(resolve, reject) {\n",
       "        var s = document.createElement('script');\n",
       "        s.src = paths[lib];\n",
       "        s.async = true;\n",
       "        s.onload = () => resolve(paths[lib]);\n",
       "        s.onerror = () => reject(`Error loading script: ${paths[lib]}`);\n",
       "        document.getElementsByTagName(\"head\")[0].appendChild(s);\n",
       "      });\n",
       "    }\n",
       "\n",
       "    function showError(err) {\n",
       "      outputDiv.innerHTML = `<div class=\"error\" style=\"color:red;\">${err}</div>`;\n",
       "      throw err;\n",
       "    }\n",
       "\n",
       "    function displayChart(vegaEmbed) {\n",
       "      vegaEmbed(outputDiv, spec, embedOpt)\n",
       "        .catch(err => showError(`Javascript Error: ${err.message}<br>This usually means there's a typo in your chart specification. See the javascript console for the full traceback.`));\n",
       "    }\n",
       "\n",
       "    if(typeof define === \"function\" && define.amd) {\n",
       "      requirejs.config({paths});\n",
       "      require([\"vega-embed\"], displayChart, err => showError(`Error loading script: ${err.message}`));\n",
       "    } else if (typeof vegaEmbed === \"function\") {\n",
       "      displayChart(vegaEmbed);\n",
       "    } else {\n",
       "      loadScript(\"vega\")\n",
       "        .then(() => loadScript(\"vega-lite\"))\n",
       "        .then(() => loadScript(\"vega-embed\"))\n",
       "        .catch(showError)\n",
       "        .then(() => displayChart(vegaEmbed));\n",
       "    }\n",
       "  })({\"config\": {\"view\": {\"continuousWidth\": 400, \"continuousHeight\": 300}}, \"data\": {\"name\": \"data-19e6055cf85ca48d0183180041089c1d\"}, \"mark\": \"bar\", \"encoding\": {\"order\": {\"type\": \"quantitative\", \"field\": \"count\", \"sort\": \"descending\"}, \"tooltip\": {\"type\": \"nominal\", \"field\": \"index\"}, \"x\": {\"type\": \"nominal\", \"field\": \"index\"}, \"y\": {\"type\": \"quantitative\", \"field\": \"count\"}}, \"height\": 700, \"title\": \"URLs indexed more than 50 times in the first half of 2020\", \"width\": 1000, \"$schema\": \"https://vega.github.io/schema/vega-lite/v4.8.1.json\", \"datasets\": {\"data-19e6055cf85ca48d0183180041089c1d\": [{\"index\": \"https://www.mbie.govt.nz/immigration-and-tourism/immigration/immigration-consultations/border-changes-consultations/\", \"count\": 363}, {\"index\": \"https://www.nchrd.org/category/un-human-rights-tools/\", \"count\": 338}, {\"index\": \"https://maintenance.gov.il/\", \"count\": 290}, {\"index\": \"https://schema.org/\", \"count\": 183}, {\"index\": \"https://wordpress.org/\", \"count\": 170}, {\"index\": \"https://www.reddit.com/\", \"count\": 156}, {\"index\": \"https://wordpress.com/\", \"count\": 136}, {\"index\": \"http://gmpg.org/xfn/11\", \"count\": 134}, {\"index\": \"http://www.w3.org/2000/svg\", \"count\": 129}, {\"index\": \"https://gmpg.org/xfn/11\", \"count\": 123}, {\"index\": \"http://www.w3.org/1999/xhtml/vocab\", \"count\": 116}, {\"index\": \"https://mp.weixin.qq.com/s?__biz=MzA5MzEzNDg3MQ==&mid=2652771043&idx=1&sn=c323bf03c7a0d439c691899e0985ba81&chksm=8b883b9bbcffb28d7f0fcfb53aaf5a2b6db0ac272ced9743838d443af7764ee6253c569a8bb2&mpshare=1&scene=1&srcid=&sharer_sharetime=1580241713617&sharer_shareid=d36ac106ecf165cc27ef6533e8eda7bf&exportkey=Aci0y7X%2BVTX516p0Jgr4zgQ%3D&pass_ticket=csECBhVVtko49SJKYWEJjcrN8tsHverRufZpXniIJVRZUqOlhJN9Cg9PIRdUHW%2BF\", \"count\": 111}, {\"index\": \"https://www.nchrd.org/2020/01/china-protect-human-rights-while-combatting-coronavirus-outbreak/\", \"count\": 111}, {\"index\": \"https://www.tatacliq.com/\", \"count\": 107}, {\"index\": \"https://videopress.com/\", \"count\": 106}, {\"index\": \"http://xg4ken.com/\", \"count\": 105}, {\"index\": \"http://www.landmarkshops.in/\", \"count\": 105}, {\"index\": \"https://www.ncl.com/\", \"count\": 104}, {\"index\": \"https://t.co/\", \"count\": 103}, {\"index\": \"http://www.w3.org/TR/SVG11/feature\", \"count\": 103}, {\"index\": \"https://www.kohls.com/\", \"count\": 100}, {\"index\": \"http://www.w3.org/1999/xlink\", \"count\": 98}, {\"index\": \"https://www.booking.com/\", \"count\": 97}, {\"index\": \"https://www.lazada.co.th/\", \"count\": 97}, {\"index\": \"https://15.taboola.com/tbp?oid=15&pubid=166277&tagid=948107&pstn=[pstn]&cb=[cb]&callback=TRC.pVideoCallbacks.videoCallback1\", \"count\": 96}, {\"index\": \"http://bs.serving-sys.com/\", \"count\": 92}, {\"index\": \"https://cdnjs.com/\", \"count\": 86}, {\"index\": \"https://code.jquery.com/\", \"count\": 84}, {\"index\": \"https://pantheon.io/\", \"count\": 84}, {\"index\": \"https://get.adobe.com/flashplayer/\", \"count\": 83}, {\"index\": \"https://www.nytimes.com/\", \"count\": 79}, {\"index\": \"https://archive.org/\", \"count\": 78}, {\"index\": \"https://fonts.adobe.com/\", \"count\": 78}, {\"index\": \"https://www.yahoo.com/\", \"count\": 78}, {\"index\": \"https://www.cdc.gov/coronavirus/2019-ncov/index.html\", \"count\": 77}, {\"index\": \"https://en.gravatar.com/\", \"count\": 77}, {\"index\": \"https://www.jsdelivr.com/\", \"count\": 76}, {\"index\": \"https://www.amazon.com/\", \"count\": 73}, {\"index\": \"https://www.who.int/\", \"count\": 72}, {\"index\": \"https://www.nytco.com/company/diversity-and-inclusion/\", \"count\": 72}, {\"index\": \"https://vimeo.com/features\", \"count\": 71}, {\"index\": \"https://digg.com/\", \"count\": 71}, {\"index\": \"https://altpay-pe-test.herokuapp.com/\", \"count\": 70}, {\"index\": \"https://www.nytco.com/company/standards-ethics/\", \"count\": 69}, {\"index\": \"https://vimeo.com/\", \"count\": 67}, {\"index\": \"http://www.w3.org/XML/1998/namespace\", \"count\": 67}, {\"index\": \"https://secure.gravatar.com/\", \"count\": 67}, {\"index\": \"https://www.usa.gov/coronavirus\", \"count\": 66}, {\"index\": \"https://www.kfc.co.th/menu/promotions\", \"count\": 66}, {\"index\": \"https://sync.richaudience.com/DF2886F390D432DF0C8E98D69702ED6F/\", \"count\": 66}, {\"index\": \"https://www.worldometers.info/coronavirus/\", \"count\": 66}, {\"index\": \"https://www.wix.com/\", \"count\": 65}, {\"index\": \"https://schema.org/CommentAction\", \"count\": 64}, {\"index\": \"https://corona.inactievoorerasmusmc.nl/\", \"count\": 64}, {\"index\": \"https://www.cnbc.com/\", \"count\": 64}, {\"index\": \"https://jobs.theguardian.com/?INTCMP=jobs_us_web_newheader_dropdown\", \"count\": 64}, {\"index\": \"https://coronavirus.jhu.edu/map.html\", \"count\": 64}, {\"index\": \"https://get.adobe.com/reader/otherversions/\", \"count\": 63}, {\"index\": \"https://www.whitehouse.gov/\", \"count\": 63}, {\"index\": \"https://www.nejm.org/action/cookieAbsent\", \"count\": 63}, {\"index\": \"https://nypost.com/\", \"count\": 62}, {\"index\": \"https://membership.theguardian.com/events\", \"count\": 62}, {\"index\": \"https://www.messenger.com/\", \"count\": 62}, {\"index\": \"https://www.messenger.com/?_fb_noscript=1\", \"count\": 62}, {\"index\": \"https://schema.org/InStock\", \"count\": 62}, {\"index\": \"https://www.scmp.com/\", \"count\": 61}, {\"index\": \"https://theguardian.newspapers.com/\", \"count\": 61}, {\"index\": \"https://profile.theguardian.com/signin\", \"count\": 61}, {\"index\": \"https://www.bbc.com/\", \"count\": 61}, {\"index\": \"https://en.wikipedia.org/wiki/The_New_York_Times\", \"count\": 61}, {\"index\": \"https://discountcode.theguardian.com/\", \"count\": 61}, {\"index\": \"http://www.w3.org/2005/Atom\", \"count\": 60}, {\"index\": \"https://telegram.org/\", \"count\": 60}, {\"index\": \"https://www.radiocalheta.pt/assets/vendor/garlitojs/api.php\", \"count\": 60}, {\"index\": \"https://chartbeat.com/faq/what-is-ping-chartbeat-net\", \"count\": 60}, {\"index\": \"https://wordpress.com/start/\", \"count\": 60}, {\"index\": \"http://mail.yahoo.com/\", \"count\": 59}, {\"index\": \"https://www.coronavirus.gov/\", \"count\": 59}, {\"index\": \"https://www.wikidata.org/wiki/Q81068910\", \"count\": 59}, {\"index\": \"https://login.wikimedia.org/wiki/Main_Page\", \"count\": 59}, {\"index\": \"http://cve.mitre.org/\", \"count\": 59}, {\"index\": \"http://ky.gov/\", \"count\": 59}, {\"index\": \"https://developer.wordpress.com/docs/api/\", \"count\": 58}, {\"index\": \"https://jetpack.com/\", \"count\": 58}, {\"index\": \"https://electoralsearch.in/\", \"count\": 58}, {\"index\": \"https://www.cnnmoney.ch/\", \"count\": 58}, {\"index\": \"https://www.arcgis.com/apps/opsdashboard/index.html\", \"count\": 58}, {\"index\": \"https://wordpress.com/log-in?redirect_to=\", \"count\": 58}, {\"index\": \"https://www.aol.com/\", \"count\": 58}, {\"index\": \"https://www.squarespace.com/\", \"count\": 58}, {\"index\": \"https://money.cnn.com/data/markets/\", \"count\": 58}, {\"index\": \"https://tags.tiqcdn.com/\", \"count\": 58}, {\"index\": \"https://r-login.wordpress.com/\", \"count\": 58}, {\"index\": \"https://gisanddata.maps.arcgis.com/apps/opsdashboard/index.html\", \"count\": 58}, {\"index\": \"https://15.taboola.com/tbp?oid=15&pubid=166277&tagid=948107&pstn=[pstn]&cb=[cb]&callback=TRC.pVideoCallbacks.videoCallback2\", \"count\": 58}, {\"index\": \"https://creativecommons.org/licenses/by-sa/3.0/\", \"count\": 58}, {\"index\": \"http://www.bing.com/\", \"count\": 57}, {\"index\": \"https://meta.wikimedia.org/wiki/Main_Page\", \"count\": 57}, {\"index\": \"https://coupons.cnn.com/\", \"count\": 57}, {\"index\": \"https://display.vitrines.in/dynamic-ad/embed.js?zid=1703&container=dynamic-ad-1703&responsive=true&branding_color=C4170C\", \"count\": 57}, {\"index\": \"https://www.flashtalking.com/\", \"count\": 57}, {\"index\": \"https://radiocalheta.pt/assets/vendor/garlitojs/api.php\", \"count\": 57}, {\"index\": \"http://wea.locales.ga/\", \"count\": 57}, {\"index\": \"https://us.cnn.com/\", \"count\": 57}, {\"index\": \"https://www.nytimes.com/get-started/swg-link?redirect=\", \"count\": 56}, {\"index\": \"https://www.elsevier.com/connect/coronavirus-information-center\", \"count\": 56}, {\"index\": \"https://support.theguardian.com/epic/control/index.html\", \"count\": 56}, {\"index\": \"https://www.bbc.co.uk/\", \"count\": 56}, {\"index\": \"http://discussion.theguardian.com/discussion-api/\", \"count\": 56}, {\"index\": \"https://sb.scorecardresearch.com/\", \"count\": 56}, {\"index\": \"https://cloudinary.com/\", \"count\": 56}, {\"index\": \"https://sports.yahoo.com/\", \"count\": 56}, {\"index\": \"https://www.lotame.com/\", \"count\": 55}, {\"index\": \"https://soundcloud.com/\", \"count\": 55}, {\"index\": \"https://myaccount.nytimes.com/auth/prefetch-assets\", \"count\": 55}, {\"index\": \"https://outlook.live.com/owa/\", \"count\": 55}, {\"index\": \"https://disqus.com/\", \"count\": 55}, {\"index\": \"https://www.usatoday.com/\", \"count\": 55}, {\"index\": \"https://commercial.cnn.com/\", \"count\": 55}, {\"index\": \"https://www.cdc.gov/\", \"count\": 55}, {\"index\": \"https://www.usda.gov/coronavirus\", \"count\": 54}, {\"index\": \"https://go.kochava.com/session\", \"count\": 54}, {\"index\": \"https://aws.amazon.com/s3/\", \"count\": 54}, {\"index\": \"https://support.theguardian.com/us/support\", \"count\": 54}, {\"index\": \"https://www.who.int/emergencies/diseases/novel-coronavirus-2019\", \"count\": 54}, {\"index\": \"https://store.cnn.com/\", \"count\": 54}, {\"index\": \"https://www.usenix.org/\", \"count\": 54}, {\"index\": \"https://schema.org/OverviewHealthAspect\", \"count\": 54}, {\"index\": \"https://www.medicare.gov/medicare-coronavirus\", \"count\": 53}, {\"index\": \"https://www.politico.com/\", \"count\": 53}, {\"index\": \"https://mix.com/\", \"count\": 53}, {\"index\": \"https://www.theaustralian.com.au/nocookies?a=A.flavipes\", \"count\": 53}, {\"index\": \"https://www.gov.uk/\", \"count\": 53}, {\"index\": \"https://kentucky.gov/Pages/home.aspx\", \"count\": 53}, {\"index\": \"https://profile.theguardian.com/signin?returnUrl=https%3A%2F%2Fmanage.theguardian.com%2F%3FprofileReferrer%3Dsignin\", \"count\": 53}, {\"index\": \"https://home.ibotta.com/\", \"count\": 53}, {\"index\": \"https://schema.org/SymptomsHealthAspect\", \"count\": 53}, {\"index\": \"https://login.yahoo.com/\", \"count\": 53}, {\"index\": \"https://www.wix.com/new/intro?ref=acquisition\", \"count\": 53}, {\"index\": \"https://www.verizonmedia.com/policies/us/en/verizonmedia/privacy/adinfo/index.html\", \"count\": 53}, {\"index\": \"https://login.yahoo.com/config/login\", \"count\": 52}, {\"index\": \"https://ws.sharethis.com/secure5x/index.html\", \"count\": 52}, {\"index\": \"https://qzone.qq.com/\", \"count\": 52}, {\"index\": \"https://www.realtor.com/\", \"count\": 52}, {\"index\": \"https://secure.jbs.elsevierhealth.com/action/cookieAbsent?code=null\", \"count\": 52}, {\"index\": \"https://edition.cnn.com/\", \"count\": 52}, {\"index\": \"https://dublincore.org/specifications/dublin-core/dcmi-terms/\", \"count\": 52}, {\"index\": \"https://store.cnn.com/?utm_source=cnn.com&utm_medium=referral&utm_campaign=navbar\", \"count\": 52}, {\"index\": \"https://s.skimresources.com/\", \"count\": 52}, {\"index\": \"https://money.cnn.com/data/dow30/\", \"count\": 52}, {\"index\": \"https://www.walmart.com/\", \"count\": 52}, {\"index\": \"https://quantcast.mgr.consensu.org/\", \"count\": 52}, {\"index\": \"https://www.osha.gov/SLTC/covid-19/\", \"count\": 52}, {\"index\": \"https://abcnews.go.com/\", \"count\": 52}, {\"index\": \"https://progallery.wix.com/gallery.html\", \"count\": 52}, {\"index\": \"https://progallery.wix.com/worker.html\", \"count\": 52}, {\"index\": \"https://support.apple.com/en-us/HT204881\", \"count\": 52}, {\"index\": \"https://schema.org/PreventionHealthAspect\", \"count\": 52}, {\"index\": \"https://www.nsf.gov/news/special_reports/coronavirus/\", \"count\": 52}, {\"index\": \"https://www.barrons.com/\", \"count\": 52}, {\"index\": \"https://www.o2.co.uk/\", \"count\": 51}, {\"index\": \"https://www.scmp.com/news\", \"count\": 51}, {\"index\": \"https://www.hud.gov/coronavirus\", \"count\": 51}, {\"index\": \"https://www.nih.gov/health-information/coronavirus\", \"count\": 51}, {\"index\": \"https://www.wsj.com/\", \"count\": 51}, {\"index\": \"https://uk.reuters.com/\", \"count\": 51}, {\"index\": \"https://www.overstock.com/\", \"count\": 51}, {\"index\": \"https://www.militaryonesource.mil/coronavirus\", \"count\": 51}, {\"index\": \"https://unpkg.com/\", \"count\": 51}, {\"index\": \"https://getpocket.com/login?e=2&route=%2Fedit.php%3Furl%3DURL%26url%3DURL%26title%3DHEADLINE%26cid%3Darticle_share_pocket\", \"count\": 51}, {\"index\": \"https://progallery.wix.com/checkout\", \"count\": 51}]}}, {\"mode\": \"vega-lite\"});\n",
       "</script>"
      ],
      "text/plain": [
       "alt.Chart(...)"
      ]
     },
     "execution_count": 55,
     "metadata": {},
     "output_type": "execute_result"
    }
   ],
   "source": [
    "filtered_urls = url_counts['count'] > 50\n",
    "url_counts_filtered = url_counts[filtered_urls]\n",
    "\n",
    "crawl_chart = (\n",
    "    alt.Chart(url_counts_filtered)\n",
    "    .mark_bar()\n",
    "    .encode(\n",
    "        x=\"index\",\n",
    "        y=\"count\",\n",
    "        tooltip=\"index\",\n",
    "        order=alt.Order(\"count\", sort=\"descending\"),\n",
    "    )\n",
    ")\n",
    "\n",
    "crawl_chart.properties(width=1000, height=700, title=\"URLs indexed more than 50 times in the first half of 2020\")"
   ]
  },
  {
   "cell_type": "code",
   "execution_count": 56,
   "metadata": {
    "scrolled": true
   },
   "outputs": [
    {
     "data": {
      "text/html": [
       "<div>\n",
       "<style scoped>\n",
       "    .dataframe tbody tr th:only-of-type {\n",
       "        vertical-align: middle;\n",
       "    }\n",
       "\n",
       "    .dataframe tbody tr th {\n",
       "        vertical-align: top;\n",
       "    }\n",
       "\n",
       "    .dataframe thead th {\n",
       "        text-align: right;\n",
       "    }\n",
       "</style>\n",
       "<table border=\"1\" class=\"dataframe\">\n",
       "  <thead>\n",
       "    <tr style=\"text-align: right;\">\n",
       "      <th></th>\n",
       "      <th>crawl_date</th>\n",
       "      <th>domain</th>\n",
       "      <th>url</th>\n",
       "      <th>language</th>\n",
       "      <th>content</th>\n",
       "      <th>date</th>\n",
       "    </tr>\n",
       "  </thead>\n",
       "  <tbody>\n",
       "    <tr>\n",
       "      <th>0</th>\n",
       "      <td>2020-02-21 18:46:21+00:00</td>\n",
       "      <td>cpplus.jp</td>\n",
       "      <td>http://www.cpplus.jp/</td>\n",
       "      <td>en</td>\n",
       "      <td>CP+2020　カメラと写真映像のワールドプレミアショー「CP+（シーピープラス）」 カメラ...</td>\n",
       "      <td>2020-02-21</td>\n",
       "    </tr>\n",
       "    <tr>\n",
       "      <th>1</th>\n",
       "      <td>2020-02-21 18:46:30+00:00</td>\n",
       "      <td>china-embassy.org</td>\n",
       "      <td>http://dk.china-embassy.org/eng/zdgx/t1736581.htm</td>\n",
       "      <td>en</td>\n",
       "      <td>Statement by Spokesperson of the Chinese Embas...</td>\n",
       "      <td>2020-02-21</td>\n",
       "    </tr>\n",
       "    <tr>\n",
       "      <th>2</th>\n",
       "      <td>2020-02-21 18:46:49+00:00</td>\n",
       "      <td>cpplus.jp</td>\n",
       "      <td>http://www.cpplus.jp/ch/</td>\n",
       "      <td>en</td>\n",
       "      <td>CP+2020　相机及影像的世界首演展览会 相机及影像的世界首演展览会 常见问题解答 一般观...</td>\n",
       "      <td>2020-02-21</td>\n",
       "    </tr>\n",
       "    <tr>\n",
       "      <th>3</th>\n",
       "      <td>2020-02-21 18:47:23+00:00</td>\n",
       "      <td>mothership.sg</td>\n",
       "      <td>https://mothership.sg/2020/01/denmark-china-co...</td>\n",
       "      <td>en</td>\n",
       "      <td>﻿ China demands apology over coronavirus flag ...</td>\n",
       "      <td>2020-02-21</td>\n",
       "    </tr>\n",
       "    <tr>\n",
       "      <th>4</th>\n",
       "      <td>2020-02-21 18:47:52+00:00</td>\n",
       "      <td>mothership.sg</td>\n",
       "      <td>https://mothership.sg/2020/01/denmark-china-co...</td>\n",
       "      <td>en</td>\n",
       "      <td>﻿ China demands apology over coronavirus flag ...</td>\n",
       "      <td>2020-02-21</td>\n",
       "    </tr>\n",
       "    <tr>\n",
       "      <th>...</th>\n",
       "      <td>...</td>\n",
       "      <td>...</td>\n",
       "      <td>...</td>\n",
       "      <td>...</td>\n",
       "      <td>...</td>\n",
       "      <td>...</td>\n",
       "    </tr>\n",
       "    <tr>\n",
       "      <th>1693551</th>\n",
       "      <td>2020-06-30 19:23:55+00:00</td>\n",
       "      <td>usp.br</td>\n",
       "      <td>https://repositoriodatasharingfapesp.uspdigita...</td>\n",
       "      <td>en</td>\n",
       "      <td>Search DSpace Repository Search DSpace Home → ...</td>\n",
       "      <td>2020-06-30</td>\n",
       "    </tr>\n",
       "    <tr>\n",
       "      <th>1693552</th>\n",
       "      <td>2020-06-30 19:23:57+00:00</td>\n",
       "      <td>usp.br</td>\n",
       "      <td>https://repositoriodatasharingfapesp.uspdigita...</td>\n",
       "      <td>en</td>\n",
       "      <td>Search DSpace Repository Search DSpace Home → ...</td>\n",
       "      <td>2020-06-30</td>\n",
       "    </tr>\n",
       "    <tr>\n",
       "      <th>1693553</th>\n",
       "      <td>2020-06-30 19:24:05+00:00</td>\n",
       "      <td>inactievoorerasmusmc.nl</td>\n",
       "      <td>https://corona.inactievoorerasmusmc.nl/deelnem...</td>\n",
       "      <td>en</td>\n",
       "      <td>Corona Login Choose your language Nederlands F...</td>\n",
       "      <td>2020-06-30</td>\n",
       "    </tr>\n",
       "    <tr>\n",
       "      <th>1693554</th>\n",
       "      <td>2020-06-30 19:24:45+00:00</td>\n",
       "      <td>usp.br</td>\n",
       "      <td>https://repositoriodatasharingfapesp.uspdigita...</td>\n",
       "      <td>en</td>\n",
       "      <td>Search DSpace Repository Search DSpace Home → ...</td>\n",
       "      <td>2020-06-30</td>\n",
       "    </tr>\n",
       "    <tr>\n",
       "      <th>1693555</th>\n",
       "      <td>2020-06-30 19:24:46+00:00</td>\n",
       "      <td>usp.br</td>\n",
       "      <td>https://repositoriodatasharingfapesp.uspdigita...</td>\n",
       "      <td>en</td>\n",
       "      <td>Search DSpace Repository Search DSpace Home → ...</td>\n",
       "      <td>2020-06-30</td>\n",
       "    </tr>\n",
       "  </tbody>\n",
       "</table>\n",
       "<p>1693556 rows × 6 columns</p>\n",
       "</div>"
      ],
      "text/plain": [
       "                       crawl_date                   domain  \\\n",
       "0       2020-02-21 18:46:21+00:00                cpplus.jp   \n",
       "1       2020-02-21 18:46:30+00:00        china-embassy.org   \n",
       "2       2020-02-21 18:46:49+00:00                cpplus.jp   \n",
       "3       2020-02-21 18:47:23+00:00            mothership.sg   \n",
       "4       2020-02-21 18:47:52+00:00            mothership.sg   \n",
       "...                           ...                      ...   \n",
       "1693551 2020-06-30 19:23:55+00:00                   usp.br   \n",
       "1693552 2020-06-30 19:23:57+00:00                   usp.br   \n",
       "1693553 2020-06-30 19:24:05+00:00  inactievoorerasmusmc.nl   \n",
       "1693554 2020-06-30 19:24:45+00:00                   usp.br   \n",
       "1693555 2020-06-30 19:24:46+00:00                   usp.br   \n",
       "\n",
       "                                                       url language  \\\n",
       "0                                    http://www.cpplus.jp/       en   \n",
       "1        http://dk.china-embassy.org/eng/zdgx/t1736581.htm       en   \n",
       "2                                 http://www.cpplus.jp/ch/       en   \n",
       "3        https://mothership.sg/2020/01/denmark-china-co...       en   \n",
       "4        https://mothership.sg/2020/01/denmark-china-co...       en   \n",
       "...                                                    ...      ...   \n",
       "1693551  https://repositoriodatasharingfapesp.uspdigita...       en   \n",
       "1693552  https://repositoriodatasharingfapesp.uspdigita...       en   \n",
       "1693553  https://corona.inactievoorerasmusmc.nl/deelnem...       en   \n",
       "1693554  https://repositoriodatasharingfapesp.uspdigita...       en   \n",
       "1693555  https://repositoriodatasharingfapesp.uspdigita...       en   \n",
       "\n",
       "                                                   content       date  \n",
       "0        CP+2020　カメラと写真映像のワールドプレミアショー「CP+（シーピープラス）」 カメラ... 2020-02-21  \n",
       "1        Statement by Spokesperson of the Chinese Embas... 2020-02-21  \n",
       "2        CP+2020　相机及影像的世界首演展览会 相机及影像的世界首演展览会 常见问题解答 一般观... 2020-02-21  \n",
       "3        ﻿ China demands apology over coronavirus flag ... 2020-02-21  \n",
       "4        ﻿ China demands apology over coronavirus flag ... 2020-02-21  \n",
       "...                                                    ...        ...  \n",
       "1693551  Search DSpace Repository Search DSpace Home → ... 2020-06-30  \n",
       "1693552  Search DSpace Repository Search DSpace Home → ... 2020-06-30  \n",
       "1693553  Corona Login Choose your language Nederlands F... 2020-06-30  \n",
       "1693554  Search DSpace Repository Search DSpace Home → ... 2020-06-30  \n",
       "1693555  Search DSpace Repository Search DSpace Home → ... 2020-06-30  \n",
       "\n",
       "[1693556 rows x 6 columns]"
      ]
     },
     "execution_count": 56,
     "metadata": {},
     "output_type": "execute_result"
    }
   ],
   "source": [
    "web_pages"
   ]
  },
  {
   "cell_type": "code",
   "execution_count": 59,
   "metadata": {},
   "outputs": [
    {
     "data": {
      "text/html": [
       "<div>\n",
       "<style scoped>\n",
       "    .dataframe tbody tr th:only-of-type {\n",
       "        vertical-align: middle;\n",
       "    }\n",
       "\n",
       "    .dataframe tbody tr th {\n",
       "        vertical-align: top;\n",
       "    }\n",
       "\n",
       "    .dataframe thead th {\n",
       "        text-align: right;\n",
       "    }\n",
       "</style>\n",
       "<table border=\"1\" class=\"dataframe\">\n",
       "  <thead>\n",
       "    <tr style=\"text-align: right;\">\n",
       "      <th></th>\n",
       "      <th>crawl_date</th>\n",
       "      <th>domain</th>\n",
       "      <th>url</th>\n",
       "      <th>content</th>\n",
       "      <th>tag</th>\n",
       "    </tr>\n",
       "  </thead>\n",
       "  <tbody>\n",
       "    <tr>\n",
       "      <th>26538</th>\n",
       "      <td>2020-02-23 00:25:37+00:00</td>\n",
       "      <td>01bd.ru</td>\n",
       "      <td>http://01bd.ru/</td>\n",
       "      <td>01bd.ru domain has expired The domain is regis...</td>\n",
       "      <td>firsttime</td>\n",
       "    </tr>\n",
       "    <tr>\n",
       "      <th>1181544</th>\n",
       "      <td>2020-04-16 16:59:07+00:00</td>\n",
       "      <td>netsolhost.com</td>\n",
       "      <td>http://042cac8.netsolhost.com/</td>\n",
       "      <td>Public Health Department Search Results Southe...</td>\n",
       "      <td>firsttime</td>\n",
       "    </tr>\n",
       "    <tr>\n",
       "      <th>1185402</th>\n",
       "      <td>2020-04-16 19:57:25+00:00</td>\n",
       "      <td>netsolhost.com</td>\n",
       "      <td>http://042cac8.netsolhost.com/</td>\n",
       "      <td>Public Health Department Search Results Southe...</td>\n",
       "      <td></td>\n",
       "    </tr>\n",
       "    <tr>\n",
       "      <th>1182515</th>\n",
       "      <td>2020-04-16 17:41:49+00:00</td>\n",
       "      <td>netsolhost.com</td>\n",
       "      <td>http://042cac8.netsolhost.com/covid-19-resourc...</td>\n",
       "      <td>COVID-Resources Search Results Southeast Distr...</td>\n",
       "      <td>firsttime</td>\n",
       "    </tr>\n",
       "    <tr>\n",
       "      <th>1192916</th>\n",
       "      <td>2020-04-17 04:36:41+00:00</td>\n",
       "      <td>netsolhost.com</td>\n",
       "      <td>http://042cac8.netsolhost.com/covid-19-resourc...</td>\n",
       "      <td>COVID-Resources Search Results Southeast Distr...</td>\n",
       "      <td></td>\n",
       "    </tr>\n",
       "    <tr>\n",
       "      <th>...</th>\n",
       "      <td>...</td>\n",
       "      <td>...</td>\n",
       "      <td>...</td>\n",
       "      <td>...</td>\n",
       "      <td>...</td>\n",
       "    </tr>\n",
       "    <tr>\n",
       "      <th>21548</th>\n",
       "      <td>2020-02-22 17:46:50+00:00</td>\n",
       "      <td>zy.io</td>\n",
       "      <td>https://zy.io/</td>\n",
       "      <td>zy.io zy.io Home Posts About zy.io DevOps cons...</td>\n",
       "      <td>firsttime</td>\n",
       "    </tr>\n",
       "    <tr>\n",
       "      <th>936003</th>\n",
       "      <td>2020-04-10 15:23:59+00:00</td>\n",
       "      <td>zyngagames.com</td>\n",
       "      <td>https://zyngagames.com/</td>\n",
       "      <td>Zynga | Play free online games with friends Pl...</td>\n",
       "      <td>firsttime</td>\n",
       "    </tr>\n",
       "    <tr>\n",
       "      <th>336040</th>\n",
       "      <td>2020-03-20 10:11:19+00:00</td>\n",
       "      <td>squarespace.com</td>\n",
       "      <td>https://zynnymerocks.squarespace.com/</td>\n",
       "      <td>ZynnyMe | Private Practice Coach Private Pract...</td>\n",
       "      <td>firsttime</td>\n",
       "    </tr>\n",
       "    <tr>\n",
       "      <th>1439393</th>\n",
       "      <td>2020-05-02 11:30:59+00:00</td>\n",
       "      <td>zzjzlsz.hr</td>\n",
       "      <td>https://zzjzlsz.hr/koronavirus-i-mjere-prevenc...</td>\n",
       "      <td>Koronavirus i mjere prevencije – Zavod za javn...</td>\n",
       "      <td>firsttime</td>\n",
       "    </tr>\n",
       "    <tr>\n",
       "      <th>1444492</th>\n",
       "      <td>2020-05-03 00:56:47+00:00</td>\n",
       "      <td>zzjzlsz.hr</td>\n",
       "      <td>https://zzjzlsz.hr/koronavirus-i-mjere-prevenc...</td>\n",
       "      <td>Koronavirus i mjere prevencije – Zavod za javn...</td>\n",
       "      <td></td>\n",
       "    </tr>\n",
       "  </tbody>\n",
       "</table>\n",
       "<p>1693556 rows × 5 columns</p>\n",
       "</div>"
      ],
      "text/plain": [
       "                       crawl_date           domain  \\\n",
       "26538   2020-02-23 00:25:37+00:00          01bd.ru   \n",
       "1181544 2020-04-16 16:59:07+00:00   netsolhost.com   \n",
       "1185402 2020-04-16 19:57:25+00:00   netsolhost.com   \n",
       "1182515 2020-04-16 17:41:49+00:00   netsolhost.com   \n",
       "1192916 2020-04-17 04:36:41+00:00   netsolhost.com   \n",
       "...                           ...              ...   \n",
       "21548   2020-02-22 17:46:50+00:00            zy.io   \n",
       "936003  2020-04-10 15:23:59+00:00   zyngagames.com   \n",
       "336040  2020-03-20 10:11:19+00:00  squarespace.com   \n",
       "1439393 2020-05-02 11:30:59+00:00       zzjzlsz.hr   \n",
       "1444492 2020-05-03 00:56:47+00:00       zzjzlsz.hr   \n",
       "\n",
       "                                                       url  \\\n",
       "26538                                      http://01bd.ru/   \n",
       "1181544                     http://042cac8.netsolhost.com/   \n",
       "1185402                     http://042cac8.netsolhost.com/   \n",
       "1182515  http://042cac8.netsolhost.com/covid-19-resourc...   \n",
       "1192916  http://042cac8.netsolhost.com/covid-19-resourc...   \n",
       "...                                                    ...   \n",
       "21548                                       https://zy.io/   \n",
       "936003                             https://zyngagames.com/   \n",
       "336040               https://zynnymerocks.squarespace.com/   \n",
       "1439393  https://zzjzlsz.hr/koronavirus-i-mjere-prevenc...   \n",
       "1444492  https://zzjzlsz.hr/koronavirus-i-mjere-prevenc...   \n",
       "\n",
       "                                                   content        tag  \n",
       "26538    01bd.ru domain has expired The domain is regis...  firsttime  \n",
       "1181544  Public Health Department Search Results Southe...  firsttime  \n",
       "1185402  Public Health Department Search Results Southe...             \n",
       "1182515  COVID-Resources Search Results Southeast Distr...  firsttime  \n",
       "1192916  COVID-Resources Search Results Southeast Distr...             \n",
       "...                                                    ...        ...  \n",
       "21548    zy.io zy.io Home Posts About zy.io DevOps cons...  firsttime  \n",
       "936003   Zynga | Play free online games with friends Pl...  firsttime  \n",
       "336040   ZynnyMe | Private Practice Coach Private Pract...  firsttime  \n",
       "1439393  Koronavirus i mjere prevencije – Zavod za javn...  firsttime  \n",
       "1444492  Koronavirus i mjere prevencije – Zavod za javn...             \n",
       "\n",
       "[1693556 rows x 5 columns]"
      ]
     },
     "execution_count": 59,
     "metadata": {},
     "output_type": "execute_result"
    }
   ],
   "source": [
    "# This code has been generated by ChatGPT Plus (GPT 3.5) and modified by the authors\n",
    "\n",
    "# We remove the columns that are now of no-interest\n",
    "web_pages_unique = web_pages.drop(['language', 'date'], axis=1)\n",
    "\n",
    "# We'll create a new column called \"tag\" with the value \"firsttime\" for the first occurrence of each URL and subsequent occurrences with a previous \"crawl_date\"\n",
    "\n",
    "# Convert the \"crawl_date\" column to a datetime data type\n",
    "web_pages_unique['crawl_date'] = pd.to_datetime(web_pages_unique['crawl_date'])\n",
    "\n",
    "# Sort the dataframe by \"url\" and \"crawl_date\" in ascending order\n",
    "web_pages_unique = web_pages_unique.sort_values(['url', 'crawl_date'])\n",
    "\n",
    "# Group the rows by \"url\" and apply the `cummin` method to find the minimum \"crawl_date\" within each group\n",
    "grouped = web_pages_unique.groupby('url')['crawl_date'].cummin()\n",
    "\n",
    "# Create a boolean mask of the rows where the \"crawl_date\" is equal to the minimum \"crawl_date\" within each group\n",
    "mask = web_pages_unique['crawl_date'] == grouped\n",
    "\n",
    "# Add a new column called \"tag\" with the value \"firsttime\" for the rows where the mask is True, and empty strings for the other rows\n",
    "web_pages_unique['tag'] = ['firsttime' if x else '' for x in mask]\n",
    "web_pages_unique"
   ]
  },
  {
   "cell_type": "code",
   "execution_count": null,
   "metadata": {},
   "outputs": [],
   "source": [
    "# code generated by ChatGPT Plus, modified by the authors\n",
    "\n",
    "# Assuming your dataframe is in a variable called `web_pages`\n",
    "# We'll update the \"tag\" column based on the conditions you described\n",
    "\n",
    "# We install swifter to use more than one core. dask distributed must be installed so that swifter can work.\n",
    "# Strangely, if dask is not installed, swifter will pretend working.\n",
    "\n",
    "import swifter\n",
    "\n",
    "# We remove unique URLs, as it is not of interest hre\n",
    "\n",
    "mask = web_pages_unique.duplicated(subset='url', keep=False)\n",
    "web_pages_unique = web_pages_unique[mask]\n",
    "\n",
    "def update_tag(row):\n",
    "    if row['tag'] == '':\n",
    "        # Find the rows with the same \"url\" as the current row and \"tag\" equal to \"firsttime\"\n",
    "        firsttime_rows = web_pages_unique[(web_pages_unique['url'] == row['url']) & (web_pages_unique['tag'] == 'firsttime')]\n",
    "        if not firsttime_rows.empty:\n",
    "            # Check if the content is the same as the \"firsttime\" row\n",
    "            firsttime_content = firsttime_rows.iloc[0]['content']\n",
    "            if row['content'] == firsttime_content:\n",
    "                return 'copy'\n",
    "            else:\n",
    "                return 'version'\n",
    "    return row['tag']\n",
    "\n",
    "# Apply the custom function to the \"web_pages\" dataframe using the `apply` method\n",
    "web_pages_unique['tag'] = web_pages_unique.swifter.apply(update_tag, axis=1)\n"
   ]
  },
  {
   "cell_type": "markdown",
   "metadata": {},
   "source": [
    "### Point in time"
   ]
  },
  {
   "cell_type": "markdown",
   "metadata": {},
   "source": [
    "Based on what is done in Helmond et al. (2012), Helmond (2017) Fage-Butler et al. (2022), that is: a point in time is selected, and if more versions exist the one closest to the chosen point in time is selected (Helmond et al. (2012) and Helmond (2017) selected the middle of the year, Fage-Butler et al. (2022) selected the first day each month; to be checked and references found, as well as a few words about their reflections on these choices)."
   ]
  },
  {
   "cell_type": "markdown",
   "metadata": {},
   "source": [
    "One question emerges out of this approach: How to select the point in time? The middle between start and stop? The point in time where most copies and versions can be found? Random? I suggest we try with all three ways of determining a point in time."
   ]
  },
  {
   "cell_type": "markdown",
   "metadata": {},
   "source": [
    "Test step 2 in pseudo code:\n",
    "Test of individual URLs:\n",
    "- use the dataset from step 1, with the extra column,\n",
    "- identify all identical URLs (copies as well as versions),\n",
    "- select the one closest to the selected point in time,\n",
    "- make different calculations of the temporal distribution, e.g.: how are the selected URLs distributed in relation to the selected point in time (could be 10, 20, 30, etc.% away from the selected point in time, could be visualized on a timeline),\n",
    "- calculate the number of copies and versions and their temporal distribution."
   ]
  },
  {
   "cell_type": "code",
   "execution_count": null,
   "metadata": {
    "tags": [
     "figure-*"
    ]
   },
   "outputs": [],
   "source": [
    "from IPython.display import Image \n",
    "metadata={\n",
    "    \"jdh\": {\n",
    "        \"module\": \"object\",\n",
    "        \"object\": {\n",
    "            \"type\":\"image\",\n",
    "            \"source\": [\n",
    "                \"Sketch of the 'point in time' solution (individuals URLs)\"\n",
    "            ]\n",
    "        }\n",
    "    }\n",
    "}\n",
    "display(Image(\"media/figure-2.png\"), metadata=metadata)"
   ]
  },
  {
   "cell_type": "markdown",
   "metadata": {},
   "source": [
    "Test of web domains (groups of URLs):\n",
    "\n",
    "- use the dataset created above (first three bullets),\n",
    "- sort and group URLs by domain name (like: bbc.com/news/borisjohnson.htm => bbc.com),\n",
    "- calculate the temporal distribution within each web domain (e.g. time span between first/last URL, average temporal distance between URLs),\n",
    "- list the results,\n",
    "- calculate the number of files belonging to each web domain,\n",
    "- list the results (number of files, descending)."
   ]
  },
  {
   "cell_type": "code",
   "execution_count": null,
   "metadata": {
    "tags": [
     "figure-*"
    ]
   },
   "outputs": [],
   "source": [
    "from IPython.display import Image \n",
    "metadata={\n",
    "    \"jdh\": {\n",
    "        \"module\": \"object\",\n",
    "        \"object\": {\n",
    "            \"type\":\"image\",\n",
    "            \"source\": [\n",
    "                \"Sketch of the 'point in time' solution (group of URLs)\"\n",
    "            ]\n",
    "        }\n",
    "    }\n",
    "}\n",
    "display(Image(\"media/figure-3.png\"), metadata=metadata)"
   ]
  },
  {
   "cell_type": "markdown",
   "metadata": {},
   "source": [
    "This will potentially show us if there is a conflict between selecting based on URLs and using this selection to recreate web domains, namely the following: if we only select based on point in time a version that was discarded because it was not the one closest to the selected time could have made the web domain more temporally consistent because more URLs from the same point in time were selected. In the slide below selecting one of the two green versions of URL 4 would have made the website as a whole more temporally consistent."
   ]
  },
  {
   "cell_type": "code",
   "execution_count": null,
   "metadata": {
    "scrolled": true
   },
   "outputs": [],
   "source": [
    "from IPython.display import Image \n",
    "metadata={\n",
    "    \"jdh\": {\n",
    "        \"module\": \"object\",\n",
    "        \"object\": {\n",
    "            \"type\":\"image\",\n",
    "            \"source\": [\n",
    "                \"Sketch of the 'point in time' solution (group of URLs - one URL chosen)\"\n",
    "            ]\n",
    "        }\n",
    "    }\n",
    "}\n",
    "display(Image(\"media/figure-4.png\"), metadata=metadata)"
   ]
  },
  {
   "cell_type": "markdown",
   "metadata": {},
   "source": [
    "### Most complete"
   ]
  },
  {
   "cell_type": "markdown",
   "metadata": {},
   "source": [
    "Since we do not have access to metadata in the form of seedlists and job-ids (which I take it that we haven’t) we have to define completeness in other ways, referred to as (b) and (c) in section 2.2. above:\n",
    "- the biggest one in terms of size is understood as the most complete one; calculating the size in MB (of individual files if focusing on URLs, or of groups of files if focusing on websites), or the number of files (when focusing on websites only),\n",
    "- the biggest one in terms of size is understood as the most complete one; calculating either the number of words/images (or other), or the length of the web page\n",
    "\n",
    "I suggest that we test the first bullet (MB and number of files), and also the second bullet if we can do that, but it is more complicated and computer heavy because we have to open all files."
   ]
  },
  {
   "cell_type": "markdown",
   "metadata": {},
   "source": [
    "Test step 3 in pseudo code:\n",
    "\n",
    "Test of URLs, size in MB:\n",
    "\n",
    "- use the dataset from step 1, with the extra column,\n",
    "- identify all identical URLs (copies as well as versions),\n",
    "- where more copies/versions exist select the one that is biggest in terms of MB,\n",
    "- make different calculations of the temporal distribution, e.g.: how are the selected URLs distributed in relation to the selected point in time (could be 10, 20, 30, etc.% away from the selected point in time, could be visualized on a timeline),\n",
    "- calculate the number of copies and versions and their temporal distribution."
   ]
  },
  {
   "cell_type": "code",
   "execution_count": null,
   "metadata": {},
   "outputs": [],
   "source": [
    "from IPython.display import Image \n",
    "metadata={\n",
    "    \"jdh\": {\n",
    "        \"module\": \"object\",\n",
    "        \"object\": {\n",
    "            \"type\":\"image\",\n",
    "            \"source\": [\n",
    "                \"Sketch of the 'most complete' solution (size in MB, URLs)\"\n",
    "            ]\n",
    "        }\n",
    "    }\n",
    "}\n",
    "display(Image(\"media/figure-5.png\"), metadata=metadata)"
   ]
  },
  {
   "cell_type": "markdown",
   "metadata": {},
   "source": [
    "Test of web domains, size in MB (groups of URLs):\n",
    "- use the dataset created above (first three bullets),\n",
    "- sort and group URLs by domain name (like: bbc.com/news/borisjohnson.htm => bbc.com),\n",
    "- calculate the temporal distribution within each web domain (e.g. time span between first/last URL, average temporal distance between URLs),\n",
    "- list the results,\n",
    "- calculate the number of files belonging to each web domain,\n",
    "- list the results (number of files, descending)."
   ]
  },
  {
   "cell_type": "code",
   "execution_count": null,
   "metadata": {},
   "outputs": [],
   "source": [
    "from IPython.display import Image \n",
    "metadata={\n",
    "    \"jdh\": {\n",
    "        \"module\": \"object\",\n",
    "        \"object\": {\n",
    "            \"type\":\"image\",\n",
    "            \"source\": [\n",
    "                \"Sketch of the 'most complete' solution (size in MB, group of URLs)\"\n",
    "            ]\n",
    "        }\n",
    "    }\n",
    "}\n",
    "display(Image(\"media/figure-6.png\"), metadata=metadata)"
   ]
  },
  {
   "cell_type": "markdown",
   "metadata": {},
   "source": [
    "Test step 4 in pseudo code:\n",
    "\n",
    "Test of web domains, size as number of files within the website (groups of URLs):\n",
    "- use the dataset from step 1, with the extra column,\n",
    "- identify all identical URLs (copies as well as versions),\n",
    "- sort and group URLs by domain name (like: bbc.com/news/borisjohnson.htm => bbc.com),\n",
    "- calculate the number of versions within each website,\n",
    "- define a time range (based on knowledge from step 1), e.g. 1, 5, or x days, that is the time range within which one wants to select as many files as possible,\n",
    "- move through the files of each website and calculate the number of files within the defined time range,\n",
    "- select the files within each website that are within the time range with the highest number of files,\n",
    "- calculate the temporal distribution within each web domain (e.g. time span between first/last URL, average temporal distance between URLs),\n",
    "- list the results,\n",
    "- calculate the number of selected files for each web domain and the number of unselected files per web domain."
   ]
  },
  {
   "cell_type": "code",
   "execution_count": null,
   "metadata": {},
   "outputs": [],
   "source": [
    "from IPython.display import Image \n",
    "metadata={\n",
    "    \"jdh\": {\n",
    "        \"module\": \"object\",\n",
    "        \"object\": {\n",
    "            \"type\":\"image\",\n",
    "            \"source\": [\n",
    "                \"Sketch of the 'most complete' solution (web domaines, size as number of files within the website (groups of URLs)\"\n",
    "            ]\n",
    "        }\n",
    "    }\n",
    "}\n",
    "display(Image(\"media/figure-7.png\"), metadata=metadata)"
   ]
  },
  {
   "cell_type": "markdown",
   "metadata": {},
   "source": [
    "### Random"
   ]
  },
  {
   "cell_type": "markdown",
   "metadata": {},
   "source": [
    "We could try to use a randomiser (e.g. randomizer.org) to make the selection, and then follow the steps above."
   ]
  },
  {
   "cell_type": "markdown",
   "metadata": {},
   "source": [
    "### Combinations"
   ]
  },
  {
   "cell_type": "markdown",
   "metadata": {},
   "source": [
    "Let us see how it goes with the tests above, and if we have the time and energy we can try to combine some of the approaches, if possible."
   ]
  },
  {
   "cell_type": "markdown",
   "metadata": {},
   "source": [
    "## Testing the possible solutions on the IIPC COVID-19 web archival collection"
   ]
  },
  {
   "cell_type": "markdown",
   "metadata": {},
   "source": [
    "### The IIPC COVID-19 collection"
   ]
  },
  {
   "cell_type": "code",
   "execution_count": null,
   "metadata": {},
   "outputs": [],
   "source": []
  }
 ],
 "metadata": {
  "celltoolbar": "Tags",
  "citation-manager": {
   "items": {}
  },
  "cite2c": {
   "citations": {
    "8918850/A5TDSN5Q": {
     "ISBN": "978-0-262-03902-4",
     "abstract": "An original methodological framework for approaching the archived web, both as a source and as an object of study in its own right.",
     "author": [
      {
       "family": "Brügger",
       "given": "Niels"
      }
     ],
     "event-place": "Cambridge, MA, USA",
     "id": "8918850/A5TDSN5Q",
     "issued": {
      "day": 27,
      "month": 11,
      "year": 2018
     },
     "language": "en",
     "number-of-pages": "200",
     "publisher": "MIT Press",
     "publisher-place": "Cambridge, MA, USA",
     "shortTitle": "The Archived Web",
     "title": "The Archived Web: Doing History in the Digital Age",
     "title-short": "The Archived Web",
     "type": "book"
    }
   }
  },
  "kernelspec": {
   "display_name": "Python 3 (ipykernel)",
   "language": "python",
   "name": "python3"
  },
  "language_info": {
   "codemirror_mode": {
    "name": "ipython",
    "version": 3
   },
   "file_extension": ".py",
   "mimetype": "text/x-python",
   "name": "python",
   "nbconvert_exporter": "python",
   "pygments_lexer": "ipython3",
   "version": "3.9.16"
  },
  "toc": {
   "base_numbering": 1,
   "nav_menu": {},
   "number_sections": true,
   "sideBar": true,
   "skip_h1_title": false,
   "title_cell": "Table of Contents",
   "title_sidebar": "Contents",
   "toc_cell": false,
   "toc_position": {},
   "toc_section_display": true,
   "toc_window_display": false
  }
 },
 "nbformat": 4,
 "nbformat_minor": 4
}
